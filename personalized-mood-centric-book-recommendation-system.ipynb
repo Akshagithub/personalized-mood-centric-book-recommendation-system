{
  "cells": [
    {
      "cell_type": "markdown",
      "metadata": {
        "id": "8_K_3BMb4cnM"
      },
      "source": [
        "\n",
        "UPLOADING DATASET TO THE DRIVE"
      ]
    },
    {
      "cell_type": "code",
      "execution_count": 1,
      "metadata": {
        "colab": {
          "base_uri": "https://localhost:8080/"
        },
        "id": "CNbiI0GW4Ozd",
        "outputId": "3fa6f3e8-78b7-4dcd-913e-f185c3376759"
      },
      "outputs": [
        {
          "output_type": "stream",
          "name": "stdout",
          "text": [
            "Mounted at /content/drive\n"
          ]
        }
      ],
      "source": [
        "from google.colab import drive\n",
        "drive.mount('/content/drive')"
      ]
    },
    {
      "cell_type": "code",
      "execution_count": 2,
      "metadata": {
        "id": "SBtTWhWO4PDE"
      },
      "outputs": [],
      "source": [
        "file_path = \"/content/drive/MyDrive/MBRS.csv\""
      ]
    },
    {
      "cell_type": "code",
      "execution_count": 3,
      "metadata": {
        "colab": {
          "base_uri": "https://localhost:8080/"
        },
        "id": "vtet4XrK6nOM",
        "outputId": "0a129de0-0ff7-48b5-eb6b-55330b67171e"
      },
      "outputs": [
        {
          "output_type": "stream",
          "name": "stdout",
          "text": [
            "Requirement already satisfied: matplotlib-venn in /usr/local/lib/python3.10/dist-packages (0.11.10)\n",
            "Requirement already satisfied: matplotlib in /usr/local/lib/python3.10/dist-packages (from matplotlib-venn) (3.7.1)\n",
            "Requirement already satisfied: numpy in /usr/local/lib/python3.10/dist-packages (from matplotlib-venn) (1.25.2)\n",
            "Requirement already satisfied: scipy in /usr/local/lib/python3.10/dist-packages (from matplotlib-venn) (1.11.4)\n",
            "Requirement already satisfied: contourpy>=1.0.1 in /usr/local/lib/python3.10/dist-packages (from matplotlib->matplotlib-venn) (1.2.0)\n",
            "Requirement already satisfied: cycler>=0.10 in /usr/local/lib/python3.10/dist-packages (from matplotlib->matplotlib-venn) (0.12.1)\n",
            "Requirement already satisfied: fonttools>=4.22.0 in /usr/local/lib/python3.10/dist-packages (from matplotlib->matplotlib-venn) (4.49.0)\n",
            "Requirement already satisfied: kiwisolver>=1.0.1 in /usr/local/lib/python3.10/dist-packages (from matplotlib->matplotlib-venn) (1.4.5)\n",
            "Requirement already satisfied: packaging>=20.0 in /usr/local/lib/python3.10/dist-packages (from matplotlib->matplotlib-venn) (23.2)\n",
            "Requirement already satisfied: pillow>=6.2.0 in /usr/local/lib/python3.10/dist-packages (from matplotlib->matplotlib-venn) (9.4.0)\n",
            "Requirement already satisfied: pyparsing>=2.3.1 in /usr/local/lib/python3.10/dist-packages (from matplotlib->matplotlib-venn) (3.1.1)\n",
            "Requirement already satisfied: python-dateutil>=2.7 in /usr/local/lib/python3.10/dist-packages (from matplotlib->matplotlib-venn) (2.8.2)\n",
            "Requirement already satisfied: six>=1.5 in /usr/local/lib/python3.10/dist-packages (from python-dateutil>=2.7->matplotlib->matplotlib-venn) (1.16.0)\n"
          ]
        }
      ],
      "source": [
        "!pip install matplotlib-venn"
      ]
    },
    {
      "cell_type": "code",
      "execution_count": 4,
      "metadata": {
        "colab": {
          "base_uri": "https://localhost:8080/"
        },
        "id": "YUWUvxXz6pzx",
        "outputId": "d2aceded-e007-4a9a-9a16-6fed93b7297d"
      },
      "outputs": [
        {
          "output_type": "stream",
          "name": "stdout",
          "text": [
            "Collecting neattext\n",
            "  Downloading neattext-0.1.3-py3-none-any.whl (114 kB)\n",
            "\u001b[?25l     \u001b[90m━━━━━━━━━━━━━━━━━━━━━━━━━━━━━━━━━━━━━━━━\u001b[0m \u001b[32m0.0/114.7 kB\u001b[0m \u001b[31m?\u001b[0m eta \u001b[36m-:--:--\u001b[0m\r\u001b[2K     \u001b[91m━━━━━━━━━━━━━━━━━━━━━━━━━━━━━━━━━━━━━━━\u001b[0m\u001b[90m╺\u001b[0m \u001b[32m112.6/114.7 kB\u001b[0m \u001b[31m3.4 MB/s\u001b[0m eta \u001b[36m0:00:01\u001b[0m\r\u001b[2K     \u001b[90m━━━━━━━━━━━━━━━━━━━━━━━━━━━━━━━━━━━━━━━━\u001b[0m \u001b[32m114.7/114.7 kB\u001b[0m \u001b[31m2.8 MB/s\u001b[0m eta \u001b[36m0:00:00\u001b[0m\n",
            "\u001b[?25hInstalling collected packages: neattext\n",
            "Successfully installed neattext-0.1.3\n"
          ]
        }
      ],
      "source": [
        "!pip install neattext"
      ]
    },
    {
      "cell_type": "code",
      "execution_count": 5,
      "metadata": {
        "id": "gp8ODijn4PPG"
      },
      "outputs": [],
      "source": [
        "import os\n",
        "import pandas as pd\n",
        "import numpy as np\n",
        "import matplotlib.pyplot as plt\n",
        "import seaborn as sns\n",
        "import nltk\n",
        "import tensorflow as tf\n",
        "from tensorflow import keras\n",
        "from gensim.models import word2vec\n",
        "import neattext as nfx\n",
        "import re\n",
        "from nltk.corpus import stopwords\n",
        "from glob import glob\n",
        "import torch.nn.functional as F\n",
        "from transformers import AutoTokenizer\n",
        "import torch\n",
        "from transformers import AutoTokenizer, AutoModelForSequenceClassification\n",
        "from transformers import AutoTokenizer, TFAutoModelForSequenceClassification\n",
        "from transformers import AutoModelForSequenceClassification, AutoTokenizer, pipeline"
      ]
    },
    {
      "cell_type": "code",
      "execution_count": 6,
      "metadata": {
        "id": "r5YVRh1g62Yw"
      },
      "outputs": [],
      "source": [
        "data = pd.read_csv(file_path)"
      ]
    },
    {
      "cell_type": "code",
      "execution_count": 7,
      "metadata": {
        "colab": {
          "base_uri": "https://localhost:8080/"
        },
        "id": "d1Ye-YiQ66f_",
        "outputId": "ef619c64-e20a-4a15-de80-b5e7104ee0b9"
      },
      "outputs": [
        {
          "output_type": "execute_result",
          "data": {
            "text/plain": [
              "Unnamed: 0             0\n",
              "isbn                   0\n",
              "rating                 0\n",
              "book_title             0\n",
              "book_author            0\n",
              "year_of_publication    0\n",
              "publisher              0\n",
              "img_s                  0\n",
              "img_m                  0\n",
              "img_l                  0\n",
              "Summary                0\n",
              "Language               0\n",
              "Emotions               0\n",
              "dtype: int64"
            ]
          },
          "metadata": {},
          "execution_count": 7
        }
      ],
      "source": [
        "data.isna().sum()"
      ]
    },
    {
      "cell_type": "code",
      "execution_count": 8,
      "metadata": {
        "colab": {
          "base_uri": "https://localhost:8080/",
          "height": 743
        },
        "id": "wnRNJYQI7AfM",
        "outputId": "3dc40bdf-d62e-444d-d645-79b88321da5b"
      },
      "outputs": [
        {
          "output_type": "execute_result",
          "data": {
            "text/plain": [
              "   Unnamed: 0       isbn  rating  \\\n",
              "0      120931  553375407       5   \n",
              "1      897477  771069618       5   \n",
              "2      619033  440201780       6   \n",
              "3      629118  449148602       5   \n",
              "4      578449  448090988       7   \n",
              "5      202146  440235596       9   \n",
              "\n",
              "                                          book_title      book_author  \\\n",
              "0       Ishmael: An Adventure of the Mind and Spirit     Daniel Quinn   \n",
              "1  Writing Home: A Pen Canada Anthology (Writing ...  Constance Rooke   \n",
              "2                              Cherry Blossom Corpse   Robert Barnard   \n",
              "3                                    So This Is Love   Elaine Coffman   \n",
              "4  The Mystery at Snow Lodge (The Bobbsey Twins, ...   Laura Lee Hope   \n",
              "5                                          Tara Road     Maeve Binchy   \n",
              "\n",
              "   year_of_publication                publisher  \\\n",
              "0                 1995                   Bantam   \n",
              "1                 1997     McClelland & Stewart   \n",
              "2                 1988  Dell Publishing Company   \n",
              "3                 1993            Fawcett Books   \n",
              "4                 1990         Grosset & Dunlap   \n",
              "5                 2000  Dell Publishing Company   \n",
              "\n",
              "                                               img_s  \\\n",
              "0  http://images.amazon.com/images/P/0553375407.0...   \n",
              "1  http://images.amazon.com/images/P/0771069618.0...   \n",
              "2  http://images.amazon.com/images/P/0440201780.0...   \n",
              "3  http://images.amazon.com/images/P/0449148602.0...   \n",
              "4  http://images.amazon.com/images/P/0448090988.0...   \n",
              "5  http://images.amazon.com/images/P/0440235596.0...   \n",
              "\n",
              "                                               img_m  \\\n",
              "0  http://images.amazon.com/images/P/0553375407.0...   \n",
              "1  http://images.amazon.com/images/P/0771069618.0...   \n",
              "2  http://images.amazon.com/images/P/0440201780.0...   \n",
              "3  http://images.amazon.com/images/P/0449148602.0...   \n",
              "4  http://images.amazon.com/images/P/0448090988.0...   \n",
              "5  http://images.amazon.com/images/P/0440235596.0...   \n",
              "\n",
              "                                               img_l  \\\n",
              "0  http://images.amazon.com/images/P/0553375407.0...   \n",
              "1  http://images.amazon.com/images/P/0771069618.0...   \n",
              "2  http://images.amazon.com/images/P/0440201780.0...   \n",
              "3  http://images.amazon.com/images/P/0449148602.0...   \n",
              "4  http://images.amazon.com/images/P/0448090988.0...   \n",
              "5  http://images.amazon.com/images/P/0440235596.0...   \n",
              "\n",
              "                                             Summary Language Emotions  \n",
              "0  So begins Ishmael, an utterly unique and capti...       en    happy  \n",
              "1  A sequel to Writing Away, the acclaimed and su...       en  neutral  \n",
              "2  When Scotland Yard&#39;s Perry Trethowan accom...       en  sadness  \n",
              "3  California timber baron Adrian Mackinnon wants...       en  sadness  \n",
              "4  The twins clear Dave Burdock of a larceny char...       en  neutral  \n",
              "5  TARA ROAD is the unforgettable story of two wo...       en    happy  "
            ],
            "text/html": [
              "\n",
              "  <div id=\"df-1858837d-4679-408c-aba8-49217767a9cd\" class=\"colab-df-container\">\n",
              "    <div>\n",
              "<style scoped>\n",
              "    .dataframe tbody tr th:only-of-type {\n",
              "        vertical-align: middle;\n",
              "    }\n",
              "\n",
              "    .dataframe tbody tr th {\n",
              "        vertical-align: top;\n",
              "    }\n",
              "\n",
              "    .dataframe thead th {\n",
              "        text-align: right;\n",
              "    }\n",
              "</style>\n",
              "<table border=\"1\" class=\"dataframe\">\n",
              "  <thead>\n",
              "    <tr style=\"text-align: right;\">\n",
              "      <th></th>\n",
              "      <th>Unnamed: 0</th>\n",
              "      <th>isbn</th>\n",
              "      <th>rating</th>\n",
              "      <th>book_title</th>\n",
              "      <th>book_author</th>\n",
              "      <th>year_of_publication</th>\n",
              "      <th>publisher</th>\n",
              "      <th>img_s</th>\n",
              "      <th>img_m</th>\n",
              "      <th>img_l</th>\n",
              "      <th>Summary</th>\n",
              "      <th>Language</th>\n",
              "      <th>Emotions</th>\n",
              "    </tr>\n",
              "  </thead>\n",
              "  <tbody>\n",
              "    <tr>\n",
              "      <th>0</th>\n",
              "      <td>120931</td>\n",
              "      <td>553375407</td>\n",
              "      <td>5</td>\n",
              "      <td>Ishmael: An Adventure of the Mind and Spirit</td>\n",
              "      <td>Daniel Quinn</td>\n",
              "      <td>1995</td>\n",
              "      <td>Bantam</td>\n",
              "      <td>http://images.amazon.com/images/P/0553375407.0...</td>\n",
              "      <td>http://images.amazon.com/images/P/0553375407.0...</td>\n",
              "      <td>http://images.amazon.com/images/P/0553375407.0...</td>\n",
              "      <td>So begins Ishmael, an utterly unique and capti...</td>\n",
              "      <td>en</td>\n",
              "      <td>happy</td>\n",
              "    </tr>\n",
              "    <tr>\n",
              "      <th>1</th>\n",
              "      <td>897477</td>\n",
              "      <td>771069618</td>\n",
              "      <td>5</td>\n",
              "      <td>Writing Home: A Pen Canada Anthology (Writing ...</td>\n",
              "      <td>Constance Rooke</td>\n",
              "      <td>1997</td>\n",
              "      <td>McClelland &amp; Stewart</td>\n",
              "      <td>http://images.amazon.com/images/P/0771069618.0...</td>\n",
              "      <td>http://images.amazon.com/images/P/0771069618.0...</td>\n",
              "      <td>http://images.amazon.com/images/P/0771069618.0...</td>\n",
              "      <td>A sequel to Writing Away, the acclaimed and su...</td>\n",
              "      <td>en</td>\n",
              "      <td>neutral</td>\n",
              "    </tr>\n",
              "    <tr>\n",
              "      <th>2</th>\n",
              "      <td>619033</td>\n",
              "      <td>440201780</td>\n",
              "      <td>6</td>\n",
              "      <td>Cherry Blossom Corpse</td>\n",
              "      <td>Robert Barnard</td>\n",
              "      <td>1988</td>\n",
              "      <td>Dell Publishing Company</td>\n",
              "      <td>http://images.amazon.com/images/P/0440201780.0...</td>\n",
              "      <td>http://images.amazon.com/images/P/0440201780.0...</td>\n",
              "      <td>http://images.amazon.com/images/P/0440201780.0...</td>\n",
              "      <td>When Scotland Yard&amp;#39;s Perry Trethowan accom...</td>\n",
              "      <td>en</td>\n",
              "      <td>sadness</td>\n",
              "    </tr>\n",
              "    <tr>\n",
              "      <th>3</th>\n",
              "      <td>629118</td>\n",
              "      <td>449148602</td>\n",
              "      <td>5</td>\n",
              "      <td>So This Is Love</td>\n",
              "      <td>Elaine Coffman</td>\n",
              "      <td>1993</td>\n",
              "      <td>Fawcett Books</td>\n",
              "      <td>http://images.amazon.com/images/P/0449148602.0...</td>\n",
              "      <td>http://images.amazon.com/images/P/0449148602.0...</td>\n",
              "      <td>http://images.amazon.com/images/P/0449148602.0...</td>\n",
              "      <td>California timber baron Adrian Mackinnon wants...</td>\n",
              "      <td>en</td>\n",
              "      <td>sadness</td>\n",
              "    </tr>\n",
              "    <tr>\n",
              "      <th>4</th>\n",
              "      <td>578449</td>\n",
              "      <td>448090988</td>\n",
              "      <td>7</td>\n",
              "      <td>The Mystery at Snow Lodge (The Bobbsey Twins, ...</td>\n",
              "      <td>Laura Lee Hope</td>\n",
              "      <td>1990</td>\n",
              "      <td>Grosset &amp; Dunlap</td>\n",
              "      <td>http://images.amazon.com/images/P/0448090988.0...</td>\n",
              "      <td>http://images.amazon.com/images/P/0448090988.0...</td>\n",
              "      <td>http://images.amazon.com/images/P/0448090988.0...</td>\n",
              "      <td>The twins clear Dave Burdock of a larceny char...</td>\n",
              "      <td>en</td>\n",
              "      <td>neutral</td>\n",
              "    </tr>\n",
              "    <tr>\n",
              "      <th>5</th>\n",
              "      <td>202146</td>\n",
              "      <td>440235596</td>\n",
              "      <td>9</td>\n",
              "      <td>Tara Road</td>\n",
              "      <td>Maeve Binchy</td>\n",
              "      <td>2000</td>\n",
              "      <td>Dell Publishing Company</td>\n",
              "      <td>http://images.amazon.com/images/P/0440235596.0...</td>\n",
              "      <td>http://images.amazon.com/images/P/0440235596.0...</td>\n",
              "      <td>http://images.amazon.com/images/P/0440235596.0...</td>\n",
              "      <td>TARA ROAD is the unforgettable story of two wo...</td>\n",
              "      <td>en</td>\n",
              "      <td>happy</td>\n",
              "    </tr>\n",
              "  </tbody>\n",
              "</table>\n",
              "</div>\n",
              "    <div class=\"colab-df-buttons\">\n",
              "\n",
              "  <div class=\"colab-df-container\">\n",
              "    <button class=\"colab-df-convert\" onclick=\"convertToInteractive('df-1858837d-4679-408c-aba8-49217767a9cd')\"\n",
              "            title=\"Convert this dataframe to an interactive table.\"\n",
              "            style=\"display:none;\">\n",
              "\n",
              "  <svg xmlns=\"http://www.w3.org/2000/svg\" height=\"24px\" viewBox=\"0 -960 960 960\">\n",
              "    <path d=\"M120-120v-720h720v720H120Zm60-500h600v-160H180v160Zm220 220h160v-160H400v160Zm0 220h160v-160H400v160ZM180-400h160v-160H180v160Zm440 0h160v-160H620v160ZM180-180h160v-160H180v160Zm440 0h160v-160H620v160Z\"/>\n",
              "  </svg>\n",
              "    </button>\n",
              "\n",
              "  <style>\n",
              "    .colab-df-container {\n",
              "      display:flex;\n",
              "      gap: 12px;\n",
              "    }\n",
              "\n",
              "    .colab-df-convert {\n",
              "      background-color: #E8F0FE;\n",
              "      border: none;\n",
              "      border-radius: 50%;\n",
              "      cursor: pointer;\n",
              "      display: none;\n",
              "      fill: #1967D2;\n",
              "      height: 32px;\n",
              "      padding: 0 0 0 0;\n",
              "      width: 32px;\n",
              "    }\n",
              "\n",
              "    .colab-df-convert:hover {\n",
              "      background-color: #E2EBFA;\n",
              "      box-shadow: 0px 1px 2px rgba(60, 64, 67, 0.3), 0px 1px 3px 1px rgba(60, 64, 67, 0.15);\n",
              "      fill: #174EA6;\n",
              "    }\n",
              "\n",
              "    .colab-df-buttons div {\n",
              "      margin-bottom: 4px;\n",
              "    }\n",
              "\n",
              "    [theme=dark] .colab-df-convert {\n",
              "      background-color: #3B4455;\n",
              "      fill: #D2E3FC;\n",
              "    }\n",
              "\n",
              "    [theme=dark] .colab-df-convert:hover {\n",
              "      background-color: #434B5C;\n",
              "      box-shadow: 0px 1px 3px 1px rgba(0, 0, 0, 0.15);\n",
              "      filter: drop-shadow(0px 1px 2px rgba(0, 0, 0, 0.3));\n",
              "      fill: #FFFFFF;\n",
              "    }\n",
              "  </style>\n",
              "\n",
              "    <script>\n",
              "      const buttonEl =\n",
              "        document.querySelector('#df-1858837d-4679-408c-aba8-49217767a9cd button.colab-df-convert');\n",
              "      buttonEl.style.display =\n",
              "        google.colab.kernel.accessAllowed ? 'block' : 'none';\n",
              "\n",
              "      async function convertToInteractive(key) {\n",
              "        const element = document.querySelector('#df-1858837d-4679-408c-aba8-49217767a9cd');\n",
              "        const dataTable =\n",
              "          await google.colab.kernel.invokeFunction('convertToInteractive',\n",
              "                                                    [key], {});\n",
              "        if (!dataTable) return;\n",
              "\n",
              "        const docLinkHtml = 'Like what you see? Visit the ' +\n",
              "          '<a target=\"_blank\" href=https://colab.research.google.com/notebooks/data_table.ipynb>data table notebook</a>'\n",
              "          + ' to learn more about interactive tables.';\n",
              "        element.innerHTML = '';\n",
              "        dataTable['output_type'] = 'display_data';\n",
              "        await google.colab.output.renderOutput(dataTable, element);\n",
              "        const docLink = document.createElement('div');\n",
              "        docLink.innerHTML = docLinkHtml;\n",
              "        element.appendChild(docLink);\n",
              "      }\n",
              "    </script>\n",
              "  </div>\n",
              "\n",
              "\n",
              "<div id=\"df-1fb51a3c-5c6f-44e8-a373-a23a45bbbf41\">\n",
              "  <button class=\"colab-df-quickchart\" onclick=\"quickchart('df-1fb51a3c-5c6f-44e8-a373-a23a45bbbf41')\"\n",
              "            title=\"Suggest charts\"\n",
              "            style=\"display:none;\">\n",
              "\n",
              "<svg xmlns=\"http://www.w3.org/2000/svg\" height=\"24px\"viewBox=\"0 0 24 24\"\n",
              "     width=\"24px\">\n",
              "    <g>\n",
              "        <path d=\"M19 3H5c-1.1 0-2 .9-2 2v14c0 1.1.9 2 2 2h14c1.1 0 2-.9 2-2V5c0-1.1-.9-2-2-2zM9 17H7v-7h2v7zm4 0h-2V7h2v10zm4 0h-2v-4h2v4z\"/>\n",
              "    </g>\n",
              "</svg>\n",
              "  </button>\n",
              "\n",
              "<style>\n",
              "  .colab-df-quickchart {\n",
              "      --bg-color: #E8F0FE;\n",
              "      --fill-color: #1967D2;\n",
              "      --hover-bg-color: #E2EBFA;\n",
              "      --hover-fill-color: #174EA6;\n",
              "      --disabled-fill-color: #AAA;\n",
              "      --disabled-bg-color: #DDD;\n",
              "  }\n",
              "\n",
              "  [theme=dark] .colab-df-quickchart {\n",
              "      --bg-color: #3B4455;\n",
              "      --fill-color: #D2E3FC;\n",
              "      --hover-bg-color: #434B5C;\n",
              "      --hover-fill-color: #FFFFFF;\n",
              "      --disabled-bg-color: #3B4455;\n",
              "      --disabled-fill-color: #666;\n",
              "  }\n",
              "\n",
              "  .colab-df-quickchart {\n",
              "    background-color: var(--bg-color);\n",
              "    border: none;\n",
              "    border-radius: 50%;\n",
              "    cursor: pointer;\n",
              "    display: none;\n",
              "    fill: var(--fill-color);\n",
              "    height: 32px;\n",
              "    padding: 0;\n",
              "    width: 32px;\n",
              "  }\n",
              "\n",
              "  .colab-df-quickchart:hover {\n",
              "    background-color: var(--hover-bg-color);\n",
              "    box-shadow: 0 1px 2px rgba(60, 64, 67, 0.3), 0 1px 3px 1px rgba(60, 64, 67, 0.15);\n",
              "    fill: var(--button-hover-fill-color);\n",
              "  }\n",
              "\n",
              "  .colab-df-quickchart-complete:disabled,\n",
              "  .colab-df-quickchart-complete:disabled:hover {\n",
              "    background-color: var(--disabled-bg-color);\n",
              "    fill: var(--disabled-fill-color);\n",
              "    box-shadow: none;\n",
              "  }\n",
              "\n",
              "  .colab-df-spinner {\n",
              "    border: 2px solid var(--fill-color);\n",
              "    border-color: transparent;\n",
              "    border-bottom-color: var(--fill-color);\n",
              "    animation:\n",
              "      spin 1s steps(1) infinite;\n",
              "  }\n",
              "\n",
              "  @keyframes spin {\n",
              "    0% {\n",
              "      border-color: transparent;\n",
              "      border-bottom-color: var(--fill-color);\n",
              "      border-left-color: var(--fill-color);\n",
              "    }\n",
              "    20% {\n",
              "      border-color: transparent;\n",
              "      border-left-color: var(--fill-color);\n",
              "      border-top-color: var(--fill-color);\n",
              "    }\n",
              "    30% {\n",
              "      border-color: transparent;\n",
              "      border-left-color: var(--fill-color);\n",
              "      border-top-color: var(--fill-color);\n",
              "      border-right-color: var(--fill-color);\n",
              "    }\n",
              "    40% {\n",
              "      border-color: transparent;\n",
              "      border-right-color: var(--fill-color);\n",
              "      border-top-color: var(--fill-color);\n",
              "    }\n",
              "    60% {\n",
              "      border-color: transparent;\n",
              "      border-right-color: var(--fill-color);\n",
              "    }\n",
              "    80% {\n",
              "      border-color: transparent;\n",
              "      border-right-color: var(--fill-color);\n",
              "      border-bottom-color: var(--fill-color);\n",
              "    }\n",
              "    90% {\n",
              "      border-color: transparent;\n",
              "      border-bottom-color: var(--fill-color);\n",
              "    }\n",
              "  }\n",
              "</style>\n",
              "\n",
              "  <script>\n",
              "    async function quickchart(key) {\n",
              "      const quickchartButtonEl =\n",
              "        document.querySelector('#' + key + ' button');\n",
              "      quickchartButtonEl.disabled = true;  // To prevent multiple clicks.\n",
              "      quickchartButtonEl.classList.add('colab-df-spinner');\n",
              "      try {\n",
              "        const charts = await google.colab.kernel.invokeFunction(\n",
              "            'suggestCharts', [key], {});\n",
              "      } catch (error) {\n",
              "        console.error('Error during call to suggestCharts:', error);\n",
              "      }\n",
              "      quickchartButtonEl.classList.remove('colab-df-spinner');\n",
              "      quickchartButtonEl.classList.add('colab-df-quickchart-complete');\n",
              "    }\n",
              "    (() => {\n",
              "      let quickchartButtonEl =\n",
              "        document.querySelector('#df-1fb51a3c-5c6f-44e8-a373-a23a45bbbf41 button');\n",
              "      quickchartButtonEl.style.display =\n",
              "        google.colab.kernel.accessAllowed ? 'block' : 'none';\n",
              "    })();\n",
              "  </script>\n",
              "</div>\n",
              "\n",
              "    </div>\n",
              "  </div>\n"
            ],
            "application/vnd.google.colaboratory.intrinsic+json": {
              "type": "dataframe",
              "variable_name": "data",
              "summary": "{\n  \"name\": \"data\",\n  \"rows\": 30000,\n  \"fields\": [\n    {\n      \"column\": \"Unnamed: 0\",\n      \"properties\": {\n        \"dtype\": \"number\",\n        \"std\": 293116,\n        \"min\": 1,\n        \"max\": 1031157,\n        \"num_unique_values\": 30000,\n        \"samples\": [\n          795052,\n          975240,\n          171434\n        ],\n        \"semantic_type\": \"\",\n        \"description\": \"\"\n      }\n    },\n    {\n      \"column\": \"isbn\",\n      \"properties\": {\n        \"dtype\": \"string\",\n        \"num_unique_values\": 20693,\n        \"samples\": [\n          \"1556611536\",\n          \"059087585X\",\n          \"373257309\"\n        ],\n        \"semantic_type\": \"\",\n        \"description\": \"\"\n      }\n    },\n    {\n      \"column\": \"rating\",\n      \"properties\": {\n        \"dtype\": \"number\",\n        \"std\": 1,\n        \"min\": 1,\n        \"max\": 10,\n        \"num_unique_values\": 10,\n        \"samples\": [\n          3,\n          6,\n          10\n        ],\n        \"semantic_type\": \"\",\n        \"description\": \"\"\n      }\n    },\n    {\n      \"column\": \"book_title\",\n      \"properties\": {\n        \"dtype\": \"string\",\n        \"num_unique_values\": 19507,\n        \"samples\": [\n          \"Kids Who Laugh : How to Develop Your Child's Sense of Humor\",\n          \"Extreme Denial\",\n          \"The Pilot's Wife : A Novel Tag: Author of the Weight of Water (Oprah's Book Club (Hardcover))\"\n        ],\n        \"semantic_type\": \"\",\n        \"description\": \"\"\n      }\n    },\n    {\n      \"column\": \"book_author\",\n      \"properties\": {\n        \"dtype\": \"category\",\n        \"num_unique_values\": 10974,\n        \"samples\": [\n          \"Sean Hughes\",\n          \"Barbara Gordon\",\n          \"Steven Ozment\"\n        ],\n        \"semantic_type\": \"\",\n        \"description\": \"\"\n      }\n    },\n    {\n      \"column\": \"year_of_publication\",\n      \"properties\": {\n        \"dtype\": \"number\",\n        \"std\": 6,\n        \"min\": 1911,\n        \"max\": 2005,\n        \"num_unique_values\": 66,\n        \"samples\": [\n          1947,\n          1932,\n          1995\n        ],\n        \"semantic_type\": \"\",\n        \"description\": \"\"\n      }\n    },\n    {\n      \"column\": \"publisher\",\n      \"properties\": {\n        \"dtype\": \"category\",\n        \"num_unique_values\": 2637,\n        \"samples\": [\n          \"Harvill Press\",\n          \"Bantam Doubleday Dell Publishing Group\",\n          \"Chrysalis Books\"\n        ],\n        \"semantic_type\": \"\",\n        \"description\": \"\"\n      }\n    },\n    {\n      \"column\": \"img_s\",\n      \"properties\": {\n        \"dtype\": \"string\",\n        \"num_unique_values\": 20690,\n        \"samples\": [\n          \"http://images.amazon.com/images/P/0449149900.01.THUMBZZZ.jpg\",\n          \"http://images.amazon.com/images/P/0330253603.01.THUMBZZZ.jpg\",\n          \"http://images.amazon.com/images/P/0393020363.01.THUMBZZZ.jpg\"\n        ],\n        \"semantic_type\": \"\",\n        \"description\": \"\"\n      }\n    },\n    {\n      \"column\": \"img_m\",\n      \"properties\": {\n        \"dtype\": \"string\",\n        \"num_unique_values\": 20690,\n        \"samples\": [\n          \"http://images.amazon.com/images/P/0449149900.01.MZZZZZZZ.jpg\",\n          \"http://images.amazon.com/images/P/0330253603.01.MZZZZZZZ.jpg\",\n          \"http://images.amazon.com/images/P/0393020363.01.MZZZZZZZ.jpg\"\n        ],\n        \"semantic_type\": \"\",\n        \"description\": \"\"\n      }\n    },\n    {\n      \"column\": \"img_l\",\n      \"properties\": {\n        \"dtype\": \"string\",\n        \"num_unique_values\": 20690,\n        \"samples\": [\n          \"http://images.amazon.com/images/P/0449149900.01.LZZZZZZZ.jpg\",\n          \"http://images.amazon.com/images/P/0330253603.01.LZZZZZZZ.jpg\",\n          \"http://images.amazon.com/images/P/0393020363.01.LZZZZZZZ.jpg\"\n        ],\n        \"semantic_type\": \"\",\n        \"description\": \"\"\n      }\n    },\n    {\n      \"column\": \"Summary\",\n      \"properties\": {\n        \"dtype\": \"category\",\n        \"num_unique_values\": 13859,\n        \"samples\": [\n          \"This publication covers middle-tier programming with PHP, a server-\\nside, HTML-embedded scripting language.\",\n          \"Captures the dreams, memories, conflicts, and complex interior lives\\nof the citizens of a small, all-Black town as four young women are\\nbrutally attacked in a convent near the town during the 1970s, in a\\nnovel that blends past, present, and ...\",\n          \"These odds would have stopped any man in the world-except the man from\\nSt. Petersburg.\"\n        ],\n        \"semantic_type\": \"\",\n        \"description\": \"\"\n      }\n    },\n    {\n      \"column\": \"Language\",\n      \"properties\": {\n        \"dtype\": \"category\",\n        \"num_unique_values\": 16,\n        \"samples\": [\n          \"en\",\n          \"not specified\",\n          \"it\"\n        ],\n        \"semantic_type\": \"\",\n        \"description\": \"\"\n      }\n    },\n    {\n      \"column\": \"Emotions\",\n      \"properties\": {\n        \"dtype\": \"category\",\n        \"num_unique_values\": 7,\n        \"samples\": [\n          \"happy\",\n          \"neutral\",\n          \"anger\"\n        ],\n        \"semantic_type\": \"\",\n        \"description\": \"\"\n      }\n    }\n  ]\n}"
            }
          },
          "metadata": {},
          "execution_count": 8
        }
      ],
      "source": [
        "data.head(6)"
      ]
    },
    {
      "cell_type": "code",
      "execution_count": 9,
      "metadata": {
        "id": "m_WVPJft7FuL"
      },
      "outputs": [],
      "source": [
        "data.drop(columns=['Unnamed: 0', 'img_s', 'img_l'], inplace=True)"
      ]
    },
    {
      "cell_type": "code",
      "execution_count": 10,
      "metadata": {
        "colab": {
          "base_uri": "https://localhost:8080/",
          "height": 379
        },
        "id": "ftby901-7NOz",
        "outputId": "61373d67-00a3-4d2a-b1d9-9187824f7b34"
      },
      "outputs": [
        {
          "output_type": "execute_result",
          "data": {
            "text/plain": [
              "        isbn  rating                                         book_title  \\\n",
              "0  553375407       5       Ishmael: An Adventure of the Mind and Spirit   \n",
              "1  771069618       5  Writing Home: A Pen Canada Anthology (Writing ...   \n",
              "2  440201780       6                              Cherry Blossom Corpse   \n",
              "3  449148602       5                                    So This Is Love   \n",
              "4  448090988       7  The Mystery at Snow Lodge (The Bobbsey Twins, ...   \n",
              "\n",
              "       book_author  year_of_publication                publisher  \\\n",
              "0     Daniel Quinn                 1995                   Bantam   \n",
              "1  Constance Rooke                 1997     McClelland & Stewart   \n",
              "2   Robert Barnard                 1988  Dell Publishing Company   \n",
              "3   Elaine Coffman                 1993            Fawcett Books   \n",
              "4   Laura Lee Hope                 1990         Grosset & Dunlap   \n",
              "\n",
              "                                               img_m  \\\n",
              "0  http://images.amazon.com/images/P/0553375407.0...   \n",
              "1  http://images.amazon.com/images/P/0771069618.0...   \n",
              "2  http://images.amazon.com/images/P/0440201780.0...   \n",
              "3  http://images.amazon.com/images/P/0449148602.0...   \n",
              "4  http://images.amazon.com/images/P/0448090988.0...   \n",
              "\n",
              "                                             Summary Language Emotions  \n",
              "0  So begins Ishmael, an utterly unique and capti...       en    happy  \n",
              "1  A sequel to Writing Away, the acclaimed and su...       en  neutral  \n",
              "2  When Scotland Yard&#39;s Perry Trethowan accom...       en  sadness  \n",
              "3  California timber baron Adrian Mackinnon wants...       en  sadness  \n",
              "4  The twins clear Dave Burdock of a larceny char...       en  neutral  "
            ],
            "text/html": [
              "\n",
              "  <div id=\"df-4d78d801-1d8f-4d18-8cf8-d5de72cde732\" class=\"colab-df-container\">\n",
              "    <div>\n",
              "<style scoped>\n",
              "    .dataframe tbody tr th:only-of-type {\n",
              "        vertical-align: middle;\n",
              "    }\n",
              "\n",
              "    .dataframe tbody tr th {\n",
              "        vertical-align: top;\n",
              "    }\n",
              "\n",
              "    .dataframe thead th {\n",
              "        text-align: right;\n",
              "    }\n",
              "</style>\n",
              "<table border=\"1\" class=\"dataframe\">\n",
              "  <thead>\n",
              "    <tr style=\"text-align: right;\">\n",
              "      <th></th>\n",
              "      <th>isbn</th>\n",
              "      <th>rating</th>\n",
              "      <th>book_title</th>\n",
              "      <th>book_author</th>\n",
              "      <th>year_of_publication</th>\n",
              "      <th>publisher</th>\n",
              "      <th>img_m</th>\n",
              "      <th>Summary</th>\n",
              "      <th>Language</th>\n",
              "      <th>Emotions</th>\n",
              "    </tr>\n",
              "  </thead>\n",
              "  <tbody>\n",
              "    <tr>\n",
              "      <th>0</th>\n",
              "      <td>553375407</td>\n",
              "      <td>5</td>\n",
              "      <td>Ishmael: An Adventure of the Mind and Spirit</td>\n",
              "      <td>Daniel Quinn</td>\n",
              "      <td>1995</td>\n",
              "      <td>Bantam</td>\n",
              "      <td>http://images.amazon.com/images/P/0553375407.0...</td>\n",
              "      <td>So begins Ishmael, an utterly unique and capti...</td>\n",
              "      <td>en</td>\n",
              "      <td>happy</td>\n",
              "    </tr>\n",
              "    <tr>\n",
              "      <th>1</th>\n",
              "      <td>771069618</td>\n",
              "      <td>5</td>\n",
              "      <td>Writing Home: A Pen Canada Anthology (Writing ...</td>\n",
              "      <td>Constance Rooke</td>\n",
              "      <td>1997</td>\n",
              "      <td>McClelland &amp; Stewart</td>\n",
              "      <td>http://images.amazon.com/images/P/0771069618.0...</td>\n",
              "      <td>A sequel to Writing Away, the acclaimed and su...</td>\n",
              "      <td>en</td>\n",
              "      <td>neutral</td>\n",
              "    </tr>\n",
              "    <tr>\n",
              "      <th>2</th>\n",
              "      <td>440201780</td>\n",
              "      <td>6</td>\n",
              "      <td>Cherry Blossom Corpse</td>\n",
              "      <td>Robert Barnard</td>\n",
              "      <td>1988</td>\n",
              "      <td>Dell Publishing Company</td>\n",
              "      <td>http://images.amazon.com/images/P/0440201780.0...</td>\n",
              "      <td>When Scotland Yard&amp;#39;s Perry Trethowan accom...</td>\n",
              "      <td>en</td>\n",
              "      <td>sadness</td>\n",
              "    </tr>\n",
              "    <tr>\n",
              "      <th>3</th>\n",
              "      <td>449148602</td>\n",
              "      <td>5</td>\n",
              "      <td>So This Is Love</td>\n",
              "      <td>Elaine Coffman</td>\n",
              "      <td>1993</td>\n",
              "      <td>Fawcett Books</td>\n",
              "      <td>http://images.amazon.com/images/P/0449148602.0...</td>\n",
              "      <td>California timber baron Adrian Mackinnon wants...</td>\n",
              "      <td>en</td>\n",
              "      <td>sadness</td>\n",
              "    </tr>\n",
              "    <tr>\n",
              "      <th>4</th>\n",
              "      <td>448090988</td>\n",
              "      <td>7</td>\n",
              "      <td>The Mystery at Snow Lodge (The Bobbsey Twins, ...</td>\n",
              "      <td>Laura Lee Hope</td>\n",
              "      <td>1990</td>\n",
              "      <td>Grosset &amp; Dunlap</td>\n",
              "      <td>http://images.amazon.com/images/P/0448090988.0...</td>\n",
              "      <td>The twins clear Dave Burdock of a larceny char...</td>\n",
              "      <td>en</td>\n",
              "      <td>neutral</td>\n",
              "    </tr>\n",
              "  </tbody>\n",
              "</table>\n",
              "</div>\n",
              "    <div class=\"colab-df-buttons\">\n",
              "\n",
              "  <div class=\"colab-df-container\">\n",
              "    <button class=\"colab-df-convert\" onclick=\"convertToInteractive('df-4d78d801-1d8f-4d18-8cf8-d5de72cde732')\"\n",
              "            title=\"Convert this dataframe to an interactive table.\"\n",
              "            style=\"display:none;\">\n",
              "\n",
              "  <svg xmlns=\"http://www.w3.org/2000/svg\" height=\"24px\" viewBox=\"0 -960 960 960\">\n",
              "    <path d=\"M120-120v-720h720v720H120Zm60-500h600v-160H180v160Zm220 220h160v-160H400v160Zm0 220h160v-160H400v160ZM180-400h160v-160H180v160Zm440 0h160v-160H620v160ZM180-180h160v-160H180v160Zm440 0h160v-160H620v160Z\"/>\n",
              "  </svg>\n",
              "    </button>\n",
              "\n",
              "  <style>\n",
              "    .colab-df-container {\n",
              "      display:flex;\n",
              "      gap: 12px;\n",
              "    }\n",
              "\n",
              "    .colab-df-convert {\n",
              "      background-color: #E8F0FE;\n",
              "      border: none;\n",
              "      border-radius: 50%;\n",
              "      cursor: pointer;\n",
              "      display: none;\n",
              "      fill: #1967D2;\n",
              "      height: 32px;\n",
              "      padding: 0 0 0 0;\n",
              "      width: 32px;\n",
              "    }\n",
              "\n",
              "    .colab-df-convert:hover {\n",
              "      background-color: #E2EBFA;\n",
              "      box-shadow: 0px 1px 2px rgba(60, 64, 67, 0.3), 0px 1px 3px 1px rgba(60, 64, 67, 0.15);\n",
              "      fill: #174EA6;\n",
              "    }\n",
              "\n",
              "    .colab-df-buttons div {\n",
              "      margin-bottom: 4px;\n",
              "    }\n",
              "\n",
              "    [theme=dark] .colab-df-convert {\n",
              "      background-color: #3B4455;\n",
              "      fill: #D2E3FC;\n",
              "    }\n",
              "\n",
              "    [theme=dark] .colab-df-convert:hover {\n",
              "      background-color: #434B5C;\n",
              "      box-shadow: 0px 1px 3px 1px rgba(0, 0, 0, 0.15);\n",
              "      filter: drop-shadow(0px 1px 2px rgba(0, 0, 0, 0.3));\n",
              "      fill: #FFFFFF;\n",
              "    }\n",
              "  </style>\n",
              "\n",
              "    <script>\n",
              "      const buttonEl =\n",
              "        document.querySelector('#df-4d78d801-1d8f-4d18-8cf8-d5de72cde732 button.colab-df-convert');\n",
              "      buttonEl.style.display =\n",
              "        google.colab.kernel.accessAllowed ? 'block' : 'none';\n",
              "\n",
              "      async function convertToInteractive(key) {\n",
              "        const element = document.querySelector('#df-4d78d801-1d8f-4d18-8cf8-d5de72cde732');\n",
              "        const dataTable =\n",
              "          await google.colab.kernel.invokeFunction('convertToInteractive',\n",
              "                                                    [key], {});\n",
              "        if (!dataTable) return;\n",
              "\n",
              "        const docLinkHtml = 'Like what you see? Visit the ' +\n",
              "          '<a target=\"_blank\" href=https://colab.research.google.com/notebooks/data_table.ipynb>data table notebook</a>'\n",
              "          + ' to learn more about interactive tables.';\n",
              "        element.innerHTML = '';\n",
              "        dataTable['output_type'] = 'display_data';\n",
              "        await google.colab.output.renderOutput(dataTable, element);\n",
              "        const docLink = document.createElement('div');\n",
              "        docLink.innerHTML = docLinkHtml;\n",
              "        element.appendChild(docLink);\n",
              "      }\n",
              "    </script>\n",
              "  </div>\n",
              "\n",
              "\n",
              "<div id=\"df-ad75a186-5bde-4fc5-85d1-828865c1de26\">\n",
              "  <button class=\"colab-df-quickchart\" onclick=\"quickchart('df-ad75a186-5bde-4fc5-85d1-828865c1de26')\"\n",
              "            title=\"Suggest charts\"\n",
              "            style=\"display:none;\">\n",
              "\n",
              "<svg xmlns=\"http://www.w3.org/2000/svg\" height=\"24px\"viewBox=\"0 0 24 24\"\n",
              "     width=\"24px\">\n",
              "    <g>\n",
              "        <path d=\"M19 3H5c-1.1 0-2 .9-2 2v14c0 1.1.9 2 2 2h14c1.1 0 2-.9 2-2V5c0-1.1-.9-2-2-2zM9 17H7v-7h2v7zm4 0h-2V7h2v10zm4 0h-2v-4h2v4z\"/>\n",
              "    </g>\n",
              "</svg>\n",
              "  </button>\n",
              "\n",
              "<style>\n",
              "  .colab-df-quickchart {\n",
              "      --bg-color: #E8F0FE;\n",
              "      --fill-color: #1967D2;\n",
              "      --hover-bg-color: #E2EBFA;\n",
              "      --hover-fill-color: #174EA6;\n",
              "      --disabled-fill-color: #AAA;\n",
              "      --disabled-bg-color: #DDD;\n",
              "  }\n",
              "\n",
              "  [theme=dark] .colab-df-quickchart {\n",
              "      --bg-color: #3B4455;\n",
              "      --fill-color: #D2E3FC;\n",
              "      --hover-bg-color: #434B5C;\n",
              "      --hover-fill-color: #FFFFFF;\n",
              "      --disabled-bg-color: #3B4455;\n",
              "      --disabled-fill-color: #666;\n",
              "  }\n",
              "\n",
              "  .colab-df-quickchart {\n",
              "    background-color: var(--bg-color);\n",
              "    border: none;\n",
              "    border-radius: 50%;\n",
              "    cursor: pointer;\n",
              "    display: none;\n",
              "    fill: var(--fill-color);\n",
              "    height: 32px;\n",
              "    padding: 0;\n",
              "    width: 32px;\n",
              "  }\n",
              "\n",
              "  .colab-df-quickchart:hover {\n",
              "    background-color: var(--hover-bg-color);\n",
              "    box-shadow: 0 1px 2px rgba(60, 64, 67, 0.3), 0 1px 3px 1px rgba(60, 64, 67, 0.15);\n",
              "    fill: var(--button-hover-fill-color);\n",
              "  }\n",
              "\n",
              "  .colab-df-quickchart-complete:disabled,\n",
              "  .colab-df-quickchart-complete:disabled:hover {\n",
              "    background-color: var(--disabled-bg-color);\n",
              "    fill: var(--disabled-fill-color);\n",
              "    box-shadow: none;\n",
              "  }\n",
              "\n",
              "  .colab-df-spinner {\n",
              "    border: 2px solid var(--fill-color);\n",
              "    border-color: transparent;\n",
              "    border-bottom-color: var(--fill-color);\n",
              "    animation:\n",
              "      spin 1s steps(1) infinite;\n",
              "  }\n",
              "\n",
              "  @keyframes spin {\n",
              "    0% {\n",
              "      border-color: transparent;\n",
              "      border-bottom-color: var(--fill-color);\n",
              "      border-left-color: var(--fill-color);\n",
              "    }\n",
              "    20% {\n",
              "      border-color: transparent;\n",
              "      border-left-color: var(--fill-color);\n",
              "      border-top-color: var(--fill-color);\n",
              "    }\n",
              "    30% {\n",
              "      border-color: transparent;\n",
              "      border-left-color: var(--fill-color);\n",
              "      border-top-color: var(--fill-color);\n",
              "      border-right-color: var(--fill-color);\n",
              "    }\n",
              "    40% {\n",
              "      border-color: transparent;\n",
              "      border-right-color: var(--fill-color);\n",
              "      border-top-color: var(--fill-color);\n",
              "    }\n",
              "    60% {\n",
              "      border-color: transparent;\n",
              "      border-right-color: var(--fill-color);\n",
              "    }\n",
              "    80% {\n",
              "      border-color: transparent;\n",
              "      border-right-color: var(--fill-color);\n",
              "      border-bottom-color: var(--fill-color);\n",
              "    }\n",
              "    90% {\n",
              "      border-color: transparent;\n",
              "      border-bottom-color: var(--fill-color);\n",
              "    }\n",
              "  }\n",
              "</style>\n",
              "\n",
              "  <script>\n",
              "    async function quickchart(key) {\n",
              "      const quickchartButtonEl =\n",
              "        document.querySelector('#' + key + ' button');\n",
              "      quickchartButtonEl.disabled = true;  // To prevent multiple clicks.\n",
              "      quickchartButtonEl.classList.add('colab-df-spinner');\n",
              "      try {\n",
              "        const charts = await google.colab.kernel.invokeFunction(\n",
              "            'suggestCharts', [key], {});\n",
              "      } catch (error) {\n",
              "        console.error('Error during call to suggestCharts:', error);\n",
              "      }\n",
              "      quickchartButtonEl.classList.remove('colab-df-spinner');\n",
              "      quickchartButtonEl.classList.add('colab-df-quickchart-complete');\n",
              "    }\n",
              "    (() => {\n",
              "      let quickchartButtonEl =\n",
              "        document.querySelector('#df-ad75a186-5bde-4fc5-85d1-828865c1de26 button');\n",
              "      quickchartButtonEl.style.display =\n",
              "        google.colab.kernel.accessAllowed ? 'block' : 'none';\n",
              "    })();\n",
              "  </script>\n",
              "</div>\n",
              "\n",
              "    </div>\n",
              "  </div>\n"
            ],
            "application/vnd.google.colaboratory.intrinsic+json": {
              "type": "dataframe",
              "variable_name": "data",
              "summary": "{\n  \"name\": \"data\",\n  \"rows\": 30000,\n  \"fields\": [\n    {\n      \"column\": \"isbn\",\n      \"properties\": {\n        \"dtype\": \"string\",\n        \"num_unique_values\": 20693,\n        \"samples\": [\n          \"1556611536\",\n          \"059087585X\",\n          \"373257309\"\n        ],\n        \"semantic_type\": \"\",\n        \"description\": \"\"\n      }\n    },\n    {\n      \"column\": \"rating\",\n      \"properties\": {\n        \"dtype\": \"number\",\n        \"std\": 1,\n        \"min\": 1,\n        \"max\": 10,\n        \"num_unique_values\": 10,\n        \"samples\": [\n          3,\n          6,\n          10\n        ],\n        \"semantic_type\": \"\",\n        \"description\": \"\"\n      }\n    },\n    {\n      \"column\": \"book_title\",\n      \"properties\": {\n        \"dtype\": \"string\",\n        \"num_unique_values\": 19507,\n        \"samples\": [\n          \"Kids Who Laugh : How to Develop Your Child's Sense of Humor\",\n          \"Extreme Denial\",\n          \"The Pilot's Wife : A Novel Tag: Author of the Weight of Water (Oprah's Book Club (Hardcover))\"\n        ],\n        \"semantic_type\": \"\",\n        \"description\": \"\"\n      }\n    },\n    {\n      \"column\": \"book_author\",\n      \"properties\": {\n        \"dtype\": \"category\",\n        \"num_unique_values\": 10974,\n        \"samples\": [\n          \"Sean Hughes\",\n          \"Barbara Gordon\",\n          \"Steven Ozment\"\n        ],\n        \"semantic_type\": \"\",\n        \"description\": \"\"\n      }\n    },\n    {\n      \"column\": \"year_of_publication\",\n      \"properties\": {\n        \"dtype\": \"number\",\n        \"std\": 6,\n        \"min\": 1911,\n        \"max\": 2005,\n        \"num_unique_values\": 66,\n        \"samples\": [\n          1947,\n          1932,\n          1995\n        ],\n        \"semantic_type\": \"\",\n        \"description\": \"\"\n      }\n    },\n    {\n      \"column\": \"publisher\",\n      \"properties\": {\n        \"dtype\": \"category\",\n        \"num_unique_values\": 2637,\n        \"samples\": [\n          \"Harvill Press\",\n          \"Bantam Doubleday Dell Publishing Group\",\n          \"Chrysalis Books\"\n        ],\n        \"semantic_type\": \"\",\n        \"description\": \"\"\n      }\n    },\n    {\n      \"column\": \"img_m\",\n      \"properties\": {\n        \"dtype\": \"string\",\n        \"num_unique_values\": 20690,\n        \"samples\": [\n          \"http://images.amazon.com/images/P/0449149900.01.MZZZZZZZ.jpg\",\n          \"http://images.amazon.com/images/P/0330253603.01.MZZZZZZZ.jpg\",\n          \"http://images.amazon.com/images/P/0393020363.01.MZZZZZZZ.jpg\"\n        ],\n        \"semantic_type\": \"\",\n        \"description\": \"\"\n      }\n    },\n    {\n      \"column\": \"Summary\",\n      \"properties\": {\n        \"dtype\": \"category\",\n        \"num_unique_values\": 13859,\n        \"samples\": [\n          \"This publication covers middle-tier programming with PHP, a server-\\nside, HTML-embedded scripting language.\",\n          \"Captures the dreams, memories, conflicts, and complex interior lives\\nof the citizens of a small, all-Black town as four young women are\\nbrutally attacked in a convent near the town during the 1970s, in a\\nnovel that blends past, present, and ...\",\n          \"These odds would have stopped any man in the world-except the man from\\nSt. Petersburg.\"\n        ],\n        \"semantic_type\": \"\",\n        \"description\": \"\"\n      }\n    },\n    {\n      \"column\": \"Language\",\n      \"properties\": {\n        \"dtype\": \"category\",\n        \"num_unique_values\": 16,\n        \"samples\": [\n          \"en\",\n          \"not specified\",\n          \"it\"\n        ],\n        \"semantic_type\": \"\",\n        \"description\": \"\"\n      }\n    },\n    {\n      \"column\": \"Emotions\",\n      \"properties\": {\n        \"dtype\": \"category\",\n        \"num_unique_values\": 7,\n        \"samples\": [\n          \"happy\",\n          \"neutral\",\n          \"anger\"\n        ],\n        \"semantic_type\": \"\",\n        \"description\": \"\"\n      }\n    }\n  ]\n}"
            }
          },
          "metadata": {},
          "execution_count": 10
        }
      ],
      "source": [
        "data.head(5)"
      ]
    },
    {
      "cell_type": "code",
      "execution_count": 11,
      "metadata": {
        "id": "yjbmA-WU793-"
      },
      "outputs": [],
      "source": [
        "# Rename data to books\n",
        "books = data"
      ]
    },
    {
      "cell_type": "code",
      "execution_count": 12,
      "metadata": {
        "colab": {
          "base_uri": "https://localhost:8080/"
        },
        "id": "qbJHzGXR8HKj",
        "outputId": "a47406a0-93e5-427b-d04b-5ed665b0afc3"
      },
      "outputs": [
        {
          "output_type": "execute_result",
          "data": {
            "text/plain": [
              "Index(['isbn', 'rating', 'book_title', 'book_author', 'year_of_publication',\n",
              "       'publisher', 'img_m', 'Summary', 'Language', 'Emotions'],\n",
              "      dtype='object')"
            ]
          },
          "metadata": {},
          "execution_count": 12
        }
      ],
      "source": [
        "books.columns"
      ]
    },
    {
      "cell_type": "code",
      "execution_count": 13,
      "metadata": {
        "colab": {
          "base_uri": "https://localhost:8080/"
        },
        "id": "LNP_fvS58K1j",
        "outputId": "9e00b4c8-96e9-45b5-8409-85749b2b2fc2"
      },
      "outputs": [
        {
          "output_type": "stream",
          "name": "stdout",
          "text": [
            "(30000, 10)\n"
          ]
        }
      ],
      "source": [
        "print(books.shape)"
      ]
    },
    {
      "cell_type": "code",
      "execution_count": 14,
      "metadata": {
        "id": "SA_gJIxi8SH1"
      },
      "outputs": [],
      "source": [
        "book = pd.DataFrame(books)"
      ]
    },
    {
      "cell_type": "code",
      "execution_count": 15,
      "metadata": {
        "colab": {
          "base_uri": "https://localhost:8080/"
        },
        "id": "KPPIzMZz9NUE",
        "outputId": "9a9432a9-f9f1-45a4-be87-80de461a4b89"
      },
      "outputs": [
        {
          "output_type": "stream",
          "name": "stdout",
          "text": [
            "<class 'pandas.core.frame.DataFrame'>\n",
            "RangeIndex: 30000 entries, 0 to 29999\n",
            "Data columns (total 10 columns):\n",
            " #   Column               Non-Null Count  Dtype \n",
            "---  ------               --------------  ----- \n",
            " 0   isbn                 30000 non-null  object\n",
            " 1   rating               30000 non-null  int64 \n",
            " 2   book_title           30000 non-null  object\n",
            " 3   book_author          30000 non-null  object\n",
            " 4   year_of_publication  30000 non-null  int64 \n",
            " 5   publisher            30000 non-null  object\n",
            " 6   img_m                30000 non-null  object\n",
            " 7   Summary              30000 non-null  object\n",
            " 8   Language             30000 non-null  object\n",
            " 9   Emotions             30000 non-null  object\n",
            "dtypes: int64(2), object(8)\n",
            "memory usage: 2.3+ MB\n"
          ]
        }
      ],
      "source": [
        "books.info()"
      ]
    },
    {
      "cell_type": "code",
      "source": [
        "print(books.Summary[1900])"
      ],
      "metadata": {
        "colab": {
          "base_uri": "https://localhost:8080/"
        },
        "id": "Q2QsF_E1ssnq",
        "outputId": "2c7d08bf-4790-4ae7-9566-a93c54f1ade0"
      },
      "execution_count": 22,
      "outputs": [
        {
          "output_type": "stream",
          "name": "stdout",
          "text": [
            "Here are more true stories that capture the essence of what it means\n",
            "to be a woman and that honor the unforgettable experience of\n",
            "mothering, from the heartwarming and hilarious to the bittersweet: a\n",
            "mother sending her child off to school, ...\n"
          ]
        }
      ]
    },
    {
      "cell_type": "code",
      "source": [
        "# This function is designed to remove HTML tags from the text, ensuring cleaner and more readable summaries.\n",
        "book['Summary'] = book['Summary'].apply(nfx.remove_html_tags)"
      ],
      "metadata": {
        "id": "b8Sz9wyqs1hS"
      },
      "execution_count": 23,
      "outputs": []
    },
    {
      "cell_type": "code",
      "source": [
        "books['Summary'][40]"
      ],
      "metadata": {
        "colab": {
          "base_uri": "https://localhost:8080/",
          "height": 53
        },
        "id": "ND1I1BrJs9N8",
        "outputId": "4e132ca8-454d-496e-e8fc-4a94f59690a0"
      },
      "execution_count": 25,
      "outputs": [
        {
          "output_type": "execute_result",
          "data": {
            "text/plain": [
              "'Despite the fact that she has fallen in love with a young man, Tita,\\nthe youngest of three daughters born to a tyrannical ranch must obey\\ntradition and remain single and at home to care for her mother.'"
            ],
            "application/vnd.google.colaboratory.intrinsic+json": {
              "type": "string"
            }
          },
          "metadata": {},
          "execution_count": 25
        }
      ]
    },
    {
      "cell_type": "code",
      "source": [
        "books = books[~books['Summary'].isna()]"
      ],
      "metadata": {
        "id": "vt9xVlE_s6Ms"
      },
      "execution_count": 24,
      "outputs": []
    },
    {
      "cell_type": "code",
      "source": [
        "def check_text(sample=20):\n",
        "  for i in range(sample):\n",
        "    print(f'{i+1}) {books.Summary.sample(sample).iloc[i]}\\n')"
      ],
      "metadata": {
        "id": "fP6qyhmltCsA"
      },
      "execution_count": 26,
      "outputs": []
    },
    {
      "cell_type": "code",
      "source": [
        "check_text(10)"
      ],
      "metadata": {
        "colab": {
          "base_uri": "https://localhost:8080/"
        },
        "id": "iBCNV_hvtFXA",
        "outputId": "8170ce69-4833-453f-bf91-39bb631343d9"
      },
      "execution_count": 27,
      "outputs": [
        {
          "output_type": "stream",
          "name": "stdout",
          "text": [
            "1) Christian counselors have long needed a manual they could give couples\n",
            "before marriage counseling so they would be guided to think through\n",
            "all the important issues of marriage. This manual abundantly fulfills\n",
            "that need.\n",
            "\n",
            "2) A disturbing letter from her sister, married to a famed Bombay film\n",
            "director, draws London journalist Rosalind Bengal back to her native\n",
            "India, where a series of strange and chaotic events threatens her life\n",
            "and takes her back into the dark ...\n",
            "\n",
            "3) Investigating a young woman&#39;s strange behavior for her\n",
            "overprotective father, the nameless detective finds himself drawn into\n",
            "a case of deadly physical and psychological torture\n",
            "\n",
            "4) not specified\n",
            "\n",
            "5) . . MARRIED AT MIDNIGHT by JO BEVERLEY A women abandoned on the\n",
            "battlefield discovers that dreams can cone true when an honorable\n",
            "commanding officer gallantly offers his name. . .\n",
            "\n",
            "6) During an unfortunate helicopter ride into the wilds of Alaska,\n",
            "successful screenwriter Lou Calabrese is reunited with sexy Jack\n",
            "Townsend, but they are forced into a desperate battle for survival\n",
            "when they crash land in the wilderness.\n",
            "\n",
            "7) not specified\n",
            "\n",
            "8) not specified\n",
            "\n",
            "9) Lost in DigiWorld!\n",
            "\n",
            "10) A hurricane-chasing trip to the Caribbean spells danger for English\n",
            "meteorologist Perry Stuart as a terrifying accident during his holiday\n",
            "excursion reveals deadly secrets that could get him killed.\n",
            "\n"
          ]
        }
      ]
    },
    {
      "cell_type": "code",
      "source": [
        "print(books['Emotions'].unique())"
      ],
      "metadata": {
        "colab": {
          "base_uri": "https://localhost:8080/"
        },
        "id": "cBjgAs0VtKCz",
        "outputId": "bdfb48e9-1a10-44da-fcd4-087afdf056fa"
      },
      "execution_count": 28,
      "outputs": [
        {
          "output_type": "stream",
          "name": "stdout",
          "text": [
            "['happy' 'neutral' 'sadness' 'fear' 'disgust' 'anger' 'surprise']\n"
          ]
        }
      ]
    },
    {
      "cell_type": "code",
      "source": [
        "# Replace values in the 'Emotions' column\n",
        "books['Emotions'] = books['Emotions'].replace({'surprise': 'happy', 'fear': 'sadness', 'disgust': 'sadness', 'anger': 'sadness'})\n",
        "\n",
        "# Verify the unique values after renaming\n",
        "print(books['Emotions'].unique())"
      ],
      "metadata": {
        "colab": {
          "base_uri": "https://localhost:8080/"
        },
        "id": "-ZdnB0AGtc6F",
        "outputId": "b7c9a021-a946-4539-d624-22930d6e6665"
      },
      "execution_count": 29,
      "outputs": [
        {
          "output_type": "stream",
          "name": "stdout",
          "text": [
            "['happy' 'neutral' 'sadness']\n"
          ]
        }
      ]
    },
    {
      "cell_type": "code",
      "source": [
        "# Replace value in the 'Emotions' column\n",
        "books['Emotions'] = books['Emotions'].replace({'sadness': 'sad'})\n",
        "\n",
        "# Verify the unique values after renaming\n",
        "print(books['Emotions'].unique())"
      ],
      "metadata": {
        "colab": {
          "base_uri": "https://localhost:8080/"
        },
        "id": "3vwjqSlgtfUa",
        "outputId": "2d002305-d4ef-4235-c619-b6ebe7c10b62"
      },
      "execution_count": 30,
      "outputs": [
        {
          "output_type": "stream",
          "name": "stdout",
          "text": [
            "['happy' 'neutral' 'sad']\n"
          ]
        }
      ]
    },
    {
      "cell_type": "code",
      "source": [
        "print(books['Language'].unique())"
      ],
      "metadata": {
        "colab": {
          "base_uri": "https://localhost:8080/"
        },
        "id": "nhkzt3xdtj2d",
        "outputId": "d1ed1b57-89b2-4b76-f8bd-7e86179522ea"
      },
      "execution_count": 31,
      "outputs": [
        {
          "output_type": "stream",
          "name": "stdout",
          "text": [
            "['en' 'not specified' 'de' 'fr' 'es' 'it' 'da' 'nl' 'el' 'ja' 'gl' 'pt'\n",
            " 'zh-CN' 'ca' 'no' 'tl']\n"
          ]
        }
      ]
    },
    {
      "cell_type": "markdown",
      "source": [
        "The given language codes are:\n",
        "\n",
        "en: English not specified de: German fr: French es: Spanish it: Italian da: Danish nl: Dutch el: Greek ja: Japanese gl: Galician pt: Portuguese zh-CN: Chinese (Simplified) ca: Catalan no: Norwegian tl: Filipino (Tagalog)"
      ],
      "metadata": {
        "id": "1GE80YWotpa8"
      }
    },
    {
      "cell_type": "code",
      "source": [
        "# Count the number of rows with the value \"non specified\" in the \"Summary\" column\n",
        "num_non_specified = (books['Summary'] == 'not specified').sum()\n",
        "print(f\"Number of rows with 'non specified' in the 'Summary' column: {num_non_specified}\")"
      ],
      "metadata": {
        "colab": {
          "base_uri": "https://localhost:8080/"
        },
        "id": "_l2ueo-zttiy",
        "outputId": "bec96a77-ec2e-400f-bddc-75e2beb6d545"
      },
      "execution_count": 32,
      "outputs": [
        {
          "output_type": "stream",
          "name": "stdout",
          "text": [
            "Number of rows with 'non specified' in the 'Summary' column: 8085\n"
          ]
        }
      ]
    },
    {
      "cell_type": "code",
      "source": [
        "#'Emotions' is the column containing emotions\n",
        "emotions_column = 'Emotions'\n",
        "\n",
        "# Combine all the values in the 'emotions' column into a single string\n",
        "all_emotions_text = ' '.join(books[emotions_column].astype(str))\n",
        "\n",
        "# Convert the text to lowercase to ensure case-insensitive counting\n",
        "all_emotions_text = all_emotions_text.lower()\n",
        "\n",
        "# Define the list of target emotions\n",
        "target_emotions = ['happy', 'sad', 'neutral']\n",
        "\n",
        "# Count the occurrences of each target emotion\n",
        "word_counts = {emotion: all_emotions_text.count(emotion) for emotion in target_emotions}\n",
        "\n",
        "# Display the word counts\n",
        "for emotion, count in word_counts.items():\n",
        "    print(f'{emotion}: {count} books')"
      ],
      "metadata": {
        "colab": {
          "base_uri": "https://localhost:8080/"
        },
        "id": "C8WNW5yCt2cq",
        "outputId": "10262242-6c28-49a9-e5c2-a1fd9d24b680"
      },
      "execution_count": 33,
      "outputs": [
        {
          "output_type": "stream",
          "name": "stdout",
          "text": [
            "happy: 5071 books\n",
            "sad: 7557 books\n",
            "neutral: 17372 books\n"
          ]
        }
      ]
    },
    {
      "cell_type": "code",
      "source": [
        "# Creating a countplot using Seaborn\n",
        "gradient_palette = sns.color_palette(\"viridis\", n_colors=len(books['Emotions'].unique()))\n",
        "sns.countplot(x ='Emotions', data= books,  palette=gradient_palette)"
      ],
      "metadata": {
        "colab": {
          "base_uri": "https://localhost:8080/",
          "height": 553
        },
        "id": "fPzHTR13t9l0",
        "outputId": "cee694d6-ad46-476d-ee22-b8f2aa0334cf"
      },
      "execution_count": 34,
      "outputs": [
        {
          "output_type": "stream",
          "name": "stderr",
          "text": [
            "<ipython-input-34-1fa2c9938553>:3: FutureWarning: \n",
            "\n",
            "Passing `palette` without assigning `hue` is deprecated and will be removed in v0.14.0. Assign the `x` variable to `hue` and set `legend=False` for the same effect.\n",
            "\n",
            "  sns.countplot(x ='Emotions', data= books,  palette=gradient_palette)\n"
          ]
        },
        {
          "output_type": "execute_result",
          "data": {
            "text/plain": [
              "<Axes: xlabel='Emotions', ylabel='count'>"
            ]
          },
          "metadata": {},
          "execution_count": 34
        },
        {
          "output_type": "display_data",
          "data": {
            "text/plain": [
              "<Figure size 640x480 with 1 Axes>"
            ],
            "image/png": "[encoded data removed]"
          },
          "metadata": {}
        }
      ]
    },
    {
      "cell_type": "code",
      "source": [
        "# Filter the dataset for only three emotions: happy, neutral, and sad\n",
        "filtered_data = books[books['Emotions'].isin(['happy', 'neutral', 'sad'])]\n",
        "\n",
        "# Define attributes to include in the box plot\n",
        "attributes = ['rating', 'year_of_publication']\n",
        "\n",
        "# Create a box plot for each attribute grouped by emotions\n",
        "for attribute in attributes:\n",
        "    plt.figure(figsize=(10, 6))\n",
        "    plt.title(f'Box Plot of {attribute.capitalize()} by Emotions')\n",
        "    plt.xlabel('Emotions')\n",
        "    plt.ylabel(attribute.capitalize())\n",
        "\n",
        "    # Group data by emotions\n",
        "    grouped_data = filtered_data.groupby('Emotions')[attribute]\n",
        "\n",
        "    # Create box plot\n",
        "    bp = plt.boxplot([grouped_data.get_group('happy'),\n",
        "                      grouped_data.get_group('neutral'),\n",
        "                      grouped_data.get_group('sad')],\n",
        "                     patch_artist=True)\n",
        "\n",
        "    # Customize colors for the box plot\n",
        "    colors = ['lightgreen', 'lightblue', 'lightcoral']\n",
        "    for patch, color in zip(bp['boxes'], colors):\n",
        "        patch.set_facecolor(color)\n",
        "\n",
        "    plt.grid(True)\n",
        "    plt.xticks([1, 2, 3], ['Happy', 'Neutral', 'Sad'])\n",
        "    plt.tight_layout()\n",
        "\n",
        "plt.show()"
      ],
      "metadata": {
        "colab": {
          "base_uri": "https://localhost:8080/",
          "height": 1000
        },
        "id": "4Jovh3O-uIw3",
        "outputId": "4b986844-d9b0-4a43-ddd4-ca95708c2eba"
      },
      "execution_count": 35,
      "outputs": [
        {
          "output_type": "display_data",
          "data": {
            "text/plain": [
              "<Figure size 1000x600 with 1 Axes>"
            ],
            "image/png": "[encoded data removed]"
          },
          "metadata": {}
        },
        {
          "output_type": "display_data",
          "data": {
            "text/plain": [
              "<Figure size 1000x600 with 1 Axes>"
            ],
            "image/png": "[encoded data removed]"
          },
          "metadata": {}
        }
      ]
    },
    {
      "cell_type": "code",
      "source": [
        "heatmap_data = pd.crosstab(books['Language'], books['Emotions'], margins=False)\n",
        "plt.figure(figsize=(10, 8))\n",
        "sns.heatmap(heatmap_data, annot=True, cmap='YlGnBu')\n",
        "plt.title('Distribution of Languages and Emotions')\n",
        "plt.xlabel('Language')\n",
        "plt.ylabel('Emotion')\n",
        "plt.show()\n"
      ],
      "metadata": {
        "colab": {
          "base_uri": "https://localhost:8080/",
          "height": 718
        },
        "id": "iwhbk9cNuOzf",
        "outputId": "57306c4c-3b8a-4b70-dea2-8b76f0dbae01"
      },
      "execution_count": 36,
      "outputs": [
        {
          "output_type": "display_data",
          "data": {
            "text/plain": [
              "<Figure size 1000x800 with 2 Axes>"
            ],
            "image/png": "[encoded data removed]"
          },
          "metadata": {}
        }
      ]
    },
    {
      "cell_type": "code",
      "execution_count": 16,
      "metadata": {
        "colab": {
          "base_uri": "https://localhost:8080/",
          "height": 452
        },
        "id": "tcgvc0jh707D",
        "outputId": "6e10ee75-b625-4879-fe3d-fc49e53cb377"
      },
      "outputs": [
        {
          "output_type": "display_data",
          "data": {
            "text/plain": [
              "<Figure size 640x480 with 1 Axes>"
            ],
            "image/png": "[encoded data removed]"
          },
          "metadata": {}
        }
      ],
      "source": [
        "book['year_of_publication'].plot(kind='hist', bins=20, title='year_of_publication')\n",
        "plt.gca().spines[['top', 'right',]].set_visible(False)"
      ]
    },
    {
      "cell_type": "code",
      "execution_count": 17,
      "metadata": {
        "colab": {
          "base_uri": "https://localhost:8080/",
          "height": 452
        },
        "id": "jFV9RdhZ7zz3",
        "outputId": "85a3ce14-830f-4489-df5c-3d0527bfcb3c"
      },
      "outputs": [
        {
          "output_type": "display_data",
          "data": {
            "text/plain": [
              "<Figure size 640x480 with 1 Axes>"
            ],
            "image/png": "[encoded data removed]"
          },
          "metadata": {}
        }
      ],
      "source": [
        "book['rating'].plot(kind='hist', bins=20, title='rating')\n",
        "plt.gca().spines[['top', 'right',]].set_visible(False)"
      ]
    },
    {
      "cell_type": "code",
      "source": [
        "#Bar plot for top authors by average rating\n",
        "top_authors = books.groupby('book_author')['rating'].mean().sort_values(ascending=False).head(10)\n",
        "sns.barplot(x=top_authors.values, y=top_authors.index, palette='viridis')\n",
        "plt.title('Top 10 Authors by Average Rating')\n",
        "plt.xlabel('Average Rating')\n",
        "plt.ylabel('Authors')\n",
        "plt.show()"
      ],
      "metadata": {
        "colab": {
          "base_uri": "https://localhost:8080/",
          "height": 559
        },
        "id": "SYmcwB_3uV_2",
        "outputId": "880db9fb-08eb-46e1-b6af-af36de07995f"
      },
      "execution_count": 37,
      "outputs": [
        {
          "output_type": "stream",
          "name": "stderr",
          "text": [
            "<ipython-input-37-392d4cb45ee5>:3: FutureWarning: \n",
            "\n",
            "Passing `palette` without assigning `hue` is deprecated and will be removed in v0.14.0. Assign the `y` variable to `hue` and set `legend=False` for the same effect.\n",
            "\n",
            "  sns.barplot(x=top_authors.values, y=top_authors.index, palette='viridis')\n"
          ]
        },
        {
          "output_type": "display_data",
          "data": {
            "text/plain": [
              "<Figure size 640x480 with 1 Axes>"
            ],
            "image/png": "[encoded data removed]"
          },
          "metadata": {}
        }
      ]
    },
    {
      "cell_type": "code",
      "execution_count": 20,
      "metadata": {
        "id": "YmFlJwI87gIn",
        "colab": {
          "base_uri": "https://localhost:8080/",
          "height": 391
        },
        "outputId": "bca4d176-365b-4b20-c9e8-10f1d680f9dd"
      },
      "outputs": [
        {
          "output_type": "display_data",
          "data": {
            "text/plain": [
              "<Figure size 800x400 with 1 Axes>"
            ],
            "image/png": "[encoded data removed]"
          },
          "metadata": {}
        }
      ],
      "source": [
        "from matplotlib import pyplot as plt\n",
        "book['rating'].plot(kind='line', figsize=(8, 4), title='rating')\n",
        "plt.gca().spines[['top', 'right']].set_visible(False)"
      ]
    },
    {
      "cell_type": "code",
      "source": [
        "import tensorflow as tf\n",
        "from transformers import TFAutoModelForSequenceClassification, AutoTokenizer\n",
        "\n",
        "physical_devices = tf.config.list_physical_devices('GPU')\n",
        "if len(physical_devices) > 0:\n",
        "    tf.config.experimental.set_memory_growth(physical_devices[0], True)\n",
        "\n",
        "# Load tokenizer and model\n",
        "tokenizer = AutoTokenizer.from_pretrained('michellejieli/emotion_text_classifier')\n",
        "model = TFAutoModelForSequenceClassification.from_pretrained('michellejieli/emotion_text_classifier', from_pt=True)\n",
        "\n",
        "def emotion_classifier(text):\n",
        "    inputs = tokenizer(\n",
        "        text,\n",
        "        padding=True,\n",
        "        truncation=True,\n",
        "        max_length=512,\n",
        "        return_tensors='tf'\n",
        "    )\n",
        "\n",
        "    outputs = model(inputs)\n",
        "    logits = outputs.logits\n",
        "    probabilities = tf.nn.softmax(logits, axis=1)\n",
        "    predicted_class = tf.argmax(probabilities, axis=1)\n",
        "    scores = probabilities[0, predicted_class[0]].numpy()\n",
        "    label = model.config.id2label[predicted_class[0].numpy()]\n",
        "\n",
        "    return [{'label': label, 'scores': scores}]"
      ],
      "metadata": {
        "colab": {
          "base_uri": "https://localhost:8080/",
          "height": 487,
          "referenced_widgets": [
            "7570370f33c24b99b30f0ddafb3d37ee",
            "4bee4cf1cfae4618b4288862e173edaf",
            "f59d7bc621c34131925ff042fd55b9d7",
            "ece11a7dca264995b35695d64f31c3c6",
            "d16129af5b96400da1c7ee41e82b15ae",
            "08894de9aa62426193e3395614ba1268",
            "1b6fe1397d33414ea8fa7359545ccd43",
            "eef9ae1ecd1d46c1a3f2b75d97d94fd2",
            "6a267fcad9764d049506ccb4467bfc16",
            "3a98ad5a60454f8e99ce4fb47cf8826c",
            "1b210571540146b687178e5c71284b3b",
            "c19f2ec30d71422582edee4a18ff2e0f",
            "78df7c0b7e48423392cd7ed205c6e179",
            "9a5c1ce2da1949a6b999b1b3a175b128",
            "d79ef5b51b9840f89c1f0b5c3705887e",
            "a360a2b4249a453691abbce47c6b9774",
            "8eeaad872f92476ca33ab2d6358721e1",
            "1de73847137947ee9cfbf9968457d055",
            "0852bef13e1c48fab8bf358731eb06d7",
            "98fcbe59521649b08aa546fd507974b6",
            "7f2783d1484c47dfb28eda2bc312e367",
            "89f131bfbbf8436dbdfaba4b3ac93814",
            "3e014452badd4aecb5b564f0cd3f24a3",
            "c1d64e0d37654beca67e5ccfa368eee2",
            "d8f116ee852d4c6eb8e335a28dad63c0",
            "e31d5db88824468486ca55da46834faf",
            "fe1e6c3cffa4437e84654e199e58cd69",
            "86775d257aee4cd890c4aaccb809cf37",
            "97ba3b07b88c4ab6a4dac1686d349d9d",
            "c8e7650fa8c345b699caf66754fadcdc",
            "3a2a563fd0ca4c0083a78a422a604153",
            "655e3f3f7b35424ab27327824a98538c",
            "cfe5f6434f3749c59a9026cac6bf4e1f",
            "05f75ca537e841e9806933f4211f6af1",
            "4b2ee20e144d4f16a238dec71e4ba9f3",
            "a39c0cc43baf45dda74b8c293a2d88c0",
            "3e6641f98958400e9a1487dd1e1f8953",
            "ea69105de75945b7a57847c1569b1ee8",
            "b25f95355f9341de9e660a650cd9260a",
            "027e0a10c31a4146aeabc00fabee76c0",
            "606c25bdcdde475f8d2928e0ec22ccaf",
            "7bfb0e08e8cd4970a17bc45f454e6bfd",
            "151323e7a85b4a2ca86ffff02a0a1eba",
            "5d67445c2ddb49f4b7072b99fc198ddf",
            "6d33fb226c6e4e24946651f6c21f4698",
            "3820b47338fe45798e06d8d61d372073",
            "8d19959deb124680800ee7a82abc06fe",
            "e8162a29cc7f4781b45a47cb83842f3d",
            "86bd2f0ee22044c3b7c10ca37cd430ed",
            "b0a46a164ed24c74bb46252736ae36a6",
            "223ec5d4817e42fe9a1de721255290d8",
            "d2eeccc8f79b45a9a0ec8f9ba0e9a696",
            "599b32a64c4a4a9195d70f52df0d96c7",
            "c58d9b4c52bd4f49ba0f3260f235ca97",
            "52b8a9e4d1b3484898dd14157ddb3d61",
            "c1b04d684bcf4e0b826e7274437f3128",
            "95d5a40e1089421f9f297d1572e39356",
            "3d44d0504dcf43f5866be6f314a1c716",
            "4a87ef15640a49aa802b637e8544ed0c",
            "b9d83298f0e14446a2805915dfca5de3",
            "5a2f985a7e8a476e9fdb9a29cb16b14a",
            "46e285035d234dbcb6b7400d21609748",
            "6ccecaccc2ff4cad93b9da7b77034e47",
            "ea62b5dccdd649678bcaa7c14751303f",
            "775afb4ce0e744eaa76eda12979567ba",
            "5568067ec19c47e3b139cc923a31983a",
            "93d9e77ef205497bb6464e3df55d92f7",
            "9ef219bc4a994d9f81d928831e917c0b",
            "0a52bb5d252140f5adf5132210977f94",
            "7474eea729e44576976da32b353177ed",
            "883854a3e95c4894884c248bfb9fd3be",
            "7fdad096aa3e4bb5bee30d35dc0ab740",
            "8b635558943e4cb9bac5e216dc4eb11d",
            "402a71c720f44c7d9488d9427cb6b301",
            "a74bce9dcbe3487f84635060e0243bf7",
            "17b8043c9f774f4ca92028d7f608961b",
            "2b18ef99235f44c4a8303a336929d162"
          ]
        },
        "id": "IJvVsv_Pud-N",
        "outputId": "e8cf2f5b-f9f1-4cb2-9815-d5844fb4b937"
      },
      "execution_count": 38,
      "outputs": [
        {
          "output_type": "stream",
          "name": "stderr",
          "text": [
            "/usr/local/lib/python3.10/dist-packages/huggingface_hub/utils/_token.py:88: UserWarning: \n",
            "The secret `HF_TOKEN` does not exist in your Colab secrets.\n",
            "To authenticate with the Hugging Face Hub, create a token in your settings tab (https://huggingface.co/settings/tokens), set it as secret in your Google Colab and restart your session.\n",
            "You will be able to reuse this secret in all of your notebooks.\n",
            "Please note that authentication is recommended but still optional to access public models or datasets.\n",
            "  warnings.warn(\n"
          ]
        },
        {
          "output_type": "display_data",
          "data": {
            "text/plain": [
              "tokenizer_config.json:   0%|          | 0.00/413 [00:00<?, ?B/s]"
            ],
            "application/vnd.jupyter.widget-view+json": {
              "version_major": 2,
              "version_minor": 0,
              "model_id": "7570370f33c24b99b30f0ddafb3d37ee"
            }
          },
          "metadata": {}
        },
        {
          "output_type": "display_data",
          "data": {
            "text/plain": [
              "vocab.json:   0%|          | 0.00/798k [00:00<?, ?B/s]"
            ],
            "application/vnd.jupyter.widget-view+json": {
              "version_major": 2,
              "version_minor": 0,
              "model_id": "c19f2ec30d71422582edee4a18ff2e0f"
            }
          },
          "metadata": {}
        },
        {
          "output_type": "display_data",
          "data": {
            "text/plain": [
              "merges.txt:   0%|          | 0.00/456k [00:00<?, ?B/s]"
            ],
            "application/vnd.jupyter.widget-view+json": {
              "version_major": 2,
              "version_minor": 0,
              "model_id": "3e014452badd4aecb5b564f0cd3f24a3"
            }
          },
          "metadata": {}
        },
        {
          "output_type": "display_data",
          "data": {
            "text/plain": [
              "tokenizer.json:   0%|          | 0.00/2.11M [00:00<?, ?B/s]"
            ],
            "application/vnd.jupyter.widget-view+json": {
              "version_major": 2,
              "version_minor": 0,
              "model_id": "05f75ca537e841e9806933f4211f6af1"
            }
          },
          "metadata": {}
        },
        {
          "output_type": "display_data",
          "data": {
            "text/plain": [
              "special_tokens_map.json:   0%|          | 0.00/280 [00:00<?, ?B/s]"
            ],
            "application/vnd.jupyter.widget-view+json": {
              "version_major": 2,
              "version_minor": 0,
              "model_id": "6d33fb226c6e4e24946651f6c21f4698"
            }
          },
          "metadata": {}
        },
        {
          "output_type": "display_data",
          "data": {
            "text/plain": [
              "config.json:   0%|          | 0.00/1.09k [00:00<?, ?B/s]"
            ],
            "application/vnd.jupyter.widget-view+json": {
              "version_major": 2,
              "version_minor": 0,
              "model_id": "c1b04d684bcf4e0b826e7274437f3128"
            }
          },
          "metadata": {}
        },
        {
          "output_type": "display_data",
          "data": {
            "text/plain": [
              "pytorch_model.bin:   0%|          | 0.00/329M [00:00<?, ?B/s]"
            ],
            "application/vnd.jupyter.widget-view+json": {
              "version_major": 2,
              "version_minor": 0,
              "model_id": "93d9e77ef205497bb6464e3df55d92f7"
            }
          },
          "metadata": {}
        },
        {
          "output_type": "stream",
          "name": "stderr",
          "text": [
            "/usr/local/lib/python3.10/dist-packages/torch/_utils.py:831: UserWarning: TypedStorage is deprecated. It will be removed in the future and UntypedStorage will be the only storage class. This should only matter to you if you are using storages directly.  To access UntypedStorage directly, use tensor.untyped_storage() instead of tensor.storage()\n",
            "  return self.fget.__get__(instance, owner)()\n",
            "Some weights of the PyTorch model were not used when initializing the TF 2.0 model TFRobertaForSequenceClassification: ['roberta.embeddings.position_ids']\n",
            "- This IS expected if you are initializing TFRobertaForSequenceClassification from a PyTorch model trained on another task or with another architecture (e.g. initializing a TFBertForSequenceClassification model from a BertForPreTraining model).\n",
            "- This IS NOT expected if you are initializing TFRobertaForSequenceClassification from a PyTorch model that you expect to be exactly identical (e.g. initializing a TFBertForSequenceClassification model from a BertForSequenceClassification model).\n",
            "All the weights of TFRobertaForSequenceClassification were initialized from the PyTorch model.\n",
            "If your task is similar to the task the model of the checkpoint was trained on, you can already use TFRobertaForSequenceClassification for predictions without further training.\n"
          ]
        }
      ]
    },
    {
      "cell_type": "code",
      "source": [
        "emotion_classifier('I am feeling quite joyful today!')"
      ],
      "metadata": {
        "colab": {
          "base_uri": "https://localhost:8080/"
        },
        "id": "izSbP6UBunTH",
        "outputId": "3ec3d22c-ecb8-4f5a-eeef-1a9695c2105f"
      },
      "execution_count": 39,
      "outputs": [
        {
          "output_type": "execute_result",
          "data": {
            "text/plain": [
              "[{'label': 'joy', 'scores': 0.99540544}]"
            ]
          },
          "metadata": {},
          "execution_count": 39
        }
      ]
    },
    {
      "cell_type": "code",
      "source": [
        "emotion_classifier('I am feeling very sad today!')"
      ],
      "metadata": {
        "colab": {
          "base_uri": "https://localhost:8080/"
        },
        "id": "UKZghnYOupa6",
        "outputId": "c0fbb852-c867-48b8-8e4f-b2f453122bb9"
      },
      "execution_count": 40,
      "outputs": [
        {
          "output_type": "execute_result",
          "data": {
            "text/plain": [
              "[{'label': 'sadness', 'scores': 0.9846274}]"
            ]
          },
          "metadata": {},
          "execution_count": 40
        }
      ]
    },
    {
      "cell_type": "code",
      "source": [
        "# Filter the DataFrame to get the rows where Emotions is 'happy' and rating is 10\n",
        "happy_books_rating_10 = books[(books['Emotions'] == 'happy') & (book['rating'] == 10)]\n",
        "\n",
        "# Get the total number of happy books with rating 10\n",
        "total_happy_books_rating_10 = happy_books_rating_10.shape[0]\n",
        "\n",
        "print(\"Total number of happy books with rating 10:\", total_happy_books_rating_10)"
      ],
      "metadata": {
        "colab": {
          "base_uri": "https://localhost:8080/"
        },
        "id": "1zCJRGUJuxJf",
        "outputId": "44ed77f8-b1e1-420f-a61c-17d9e4f9c8fc"
      },
      "execution_count": 46,
      "outputs": [
        {
          "output_type": "stream",
          "name": "stdout",
          "text": [
            "Total number of happy books with rating 10: 432\n"
          ]
        }
      ]
    },
    {
      "cell_type": "code",
      "source": [
        "# Display the happy books with rating 10\n",
        "print(\"Happy books with rating 10:\")\n",
        "print(happy_books_rating_10[['book_title', 'img_m']].head())"
      ],
      "metadata": {
        "colab": {
          "base_uri": "https://localhost:8080/"
        },
        "id": "TQcN-WFmu2a3",
        "outputId": "3c1e7999-1180-4fa9-813f-e575cd2800b7"
      },
      "execution_count": 47,
      "outputs": [
        {
          "output_type": "stream",
          "name": "stdout",
          "text": [
            "Happy books with rating 10:\n",
            "                                            book_title  \\\n",
            "12   The Skeptic's Dictionary: A Collection of Stra...   \n",
            "364                     Poultry (The Good Cook Series)   \n",
            "397                                               Cujo   \n",
            "446                              To Kill a Mockingbird   \n",
            "514                         The Nanny Diaries: A Novel   \n",
            "\n",
            "                                                 img_m  \n",
            "12   http://images.amazon.com/images/P/0471272426.0...  \n",
            "364  http://images.amazon.com/images/P/0809428504.0...  \n",
            "397  http://images.amazon.com/images/P/0451161351.0...  \n",
            "446  http://images.amazon.com/images/P/0446310786.0...  \n",
            "514  http://images.amazon.com/images/P/0312278586.0...  \n"
          ]
        }
      ]
    },
    {
      "cell_type": "code",
      "source": [
        "# Filter the DataFrame to get the rows where Emotions is 'sad' and rating is 10\n",
        "sad_books_rating_10 = books[(books['Emotions'] == 'sad') & (book['rating'] == 10)]\n",
        "\n",
        "# Get the total number of happy books with rating 10\n",
        "total_sad_book_rating_10 = sad_books_rating_10.shape[0]\n",
        "\n",
        "print(\"Total number of sad book with rating 10:\", total_sad_book_rating_10)"
      ],
      "metadata": {
        "colab": {
          "base_uri": "https://localhost:8080/"
        },
        "id": "_S0W_Scru6hq",
        "outputId": "27d9b8b4-1e3d-4f3c-d443-f4a791ebfe82"
      },
      "execution_count": 48,
      "outputs": [
        {
          "output_type": "stream",
          "name": "stdout",
          "text": [
            "Total number of sad book with rating 10: 426\n"
          ]
        }
      ]
    },
    {
      "cell_type": "code",
      "source": [
        "# Display the sad books with rating 10\n",
        "print(\"Sad books with rating 10:\")\n",
        "print(sad_books_rating_10[['book_title', 'img_m']].head())"
      ],
      "metadata": {
        "colab": {
          "base_uri": "https://localhost:8080/"
        },
        "id": "UXEV6wKgvhfm",
        "outputId": "11a683a1-a019-4a11-b284-992d549395b9"
      },
      "execution_count": 49,
      "outputs": [
        {
          "output_type": "stream",
          "name": "stdout",
          "text": [
            "Sad books with rating 10:\n",
            "                                            book_title  \\\n",
            "17    The Book of Ruth (Oprah's Book Club (Paperback))   \n",
            "327                     Cycle of the Werewolf (Signet)   \n",
            "346                Sharpes Eagle (Sharpe's Adventures)   \n",
            "460  The Killing Game: Only One Can Win...and the L...   \n",
            "509                                   Family Blessings   \n",
            "\n",
            "                                                 img_m  \n",
            "17   http://images.amazon.com/images/P/0385265700.0...  \n",
            "327  http://images.amazon.com/images/P/0451822196.0...  \n",
            "346  http://images.amazon.com/images/P/0140294309.0...  \n",
            "460  http://images.amazon.com/images/P/0553581554.0...  \n",
            "509  http://images.amazon.com/images/P/0515115630.0...  \n"
          ]
        }
      ]
    },
    {
      "cell_type": "code",
      "source": [
        "# Assigning the result to a variable\n",
        "top_sad_books = sad_books_rating_10[['book_title', 'img_m']]\n",
        "\n",
        "# Printing the variable\n",
        "print(top_sad_books)"
      ],
      "metadata": {
        "colab": {
          "base_uri": "https://localhost:8080/"
        },
        "id": "_PnbkjBNvt5L",
        "outputId": "eb142624-4cc0-41d5-b0e8-daf71c0239a8"
      },
      "execution_count": 50,
      "outputs": [
        {
          "output_type": "stream",
          "name": "stdout",
          "text": [
            "                                              book_title  \\\n",
            "17      The Book of Ruth (Oprah's Book Club (Paperback))   \n",
            "327                       Cycle of the Werewolf (Signet)   \n",
            "346                  Sharpes Eagle (Sharpe's Adventures)   \n",
            "460    The Killing Game: Only One Can Win...and the L...   \n",
            "509                                     Family Blessings   \n",
            "...                                                  ...   \n",
            "29729  Without a Trace: The Disappearance of Amy Bill...   \n",
            "29757                                               Lost   \n",
            "29801                       Suzanne's Diary for Nicholas   \n",
            "29851                                       The Brethren   \n",
            "29993                                  Don't Hurt Laurie   \n",
            "\n",
            "                                                   img_m  \n",
            "17     http://images.amazon.com/images/P/0385265700.0...  \n",
            "327    http://images.amazon.com/images/P/0451822196.0...  \n",
            "346    http://images.amazon.com/images/P/0140294309.0...  \n",
            "460    http://images.amazon.com/images/P/0553581554.0...  \n",
            "509    http://images.amazon.com/images/P/0515115630.0...  \n",
            "...                                                  ...  \n",
            "29729  http://images.amazon.com/images/P/0380814137.0...  \n",
            "29757  http://images.amazon.com/images/P/0743446291.0...  \n",
            "29801  http://images.amazon.com/images/P/0446611085.0...  \n",
            "29851  http://images.amazon.com/images/P/0440236673.0...  \n",
            "29993  http://images.amazon.com/images/P/0689712065.0...  \n",
            "\n",
            "[426 rows x 2 columns]\n"
          ]
        }
      ]
    },
    {
      "cell_type": "code",
      "source": [
        "# Filter the DataFrame to get the rows where Emotions is 'neutral' and rating is 10\n",
        "neutral_books_rating_10 = books[(books['Emotions'] == 'neutral') & (books['rating'] == 10)]\n",
        "\n",
        "# Get the total number of happy books with rating 10\n",
        "total_sad_book_rating_10 = neutral_books_rating_10.shape[0]\n",
        "\n",
        "print(\"Total number of sad book with rating 10:\", total_sad_book_rating_10)"
      ],
      "metadata": {
        "colab": {
          "base_uri": "https://localhost:8080/"
        },
        "id": "DQJ8J-SSv0j7",
        "outputId": "16ebe242-6f69-4a89-acbe-8a16dcbf0901"
      },
      "execution_count": 51,
      "outputs": [
        {
          "output_type": "stream",
          "name": "stdout",
          "text": [
            "Total number of sad book with rating 10: 1151\n"
          ]
        }
      ]
    },
    {
      "cell_type": "code",
      "source": [
        "# Display the neutral books with rating 10\n",
        "print(\"Neutral books with rating 10:\")\n",
        "print(neutral_books_rating_10[['book_title', 'img_m']].head())"
      ],
      "metadata": {
        "colab": {
          "base_uri": "https://localhost:8080/"
        },
        "id": "vZWDYhkgv5rC",
        "outputId": "5a922dec-19bf-4145-968d-77cc651f7b5c"
      },
      "execution_count": 52,
      "outputs": [
        {
          "output_type": "stream",
          "name": "stdout",
          "text": [
            "Neutral books with rating 10:\n",
            "                                            book_title  \\\n",
            "29                                   The King of Torts   \n",
            "30   Meditations from the breakdown lane: Running a...   \n",
            "59                    East of Eden (Oprah's Book Club)   \n",
            "102                                       Cashelmara 2   \n",
            "183                         Linda Goodman's Star Signs   \n",
            "\n",
            "                                                 img_m  \n",
            "29   http://images.amazon.com/images/P/0440241537.0...  \n",
            "30   http://images.amazon.com/images/P/0394514386.0...  \n",
            "59   http://images.amazon.com/images/P/0142004235.0...  \n",
            "102  http://images.amazon.com/images/P/0449241076.0...  \n",
            "183  http://images.amazon.com/images/P/0312912633.0...  \n"
          ]
        }
      ]
    },
    {
      "cell_type": "code",
      "source": [
        "def recommend_books_by_mood(user_mood, num_recommendations=5):\n",
        "    # Filter books based on mood\n",
        "    mood_books = book[book['Emotions'] == user_mood]\n",
        "\n",
        "    # Sort books by rating in descending order\n",
        "    mood_books = mood_books.sort_values(by='rating', ascending=False)\n",
        "\n",
        "    # Select a limited number of recommendations\n",
        "    recommended_books = mood_books.head(num_recommendations)\n",
        "\n",
        "    return recommended_books\n",
        "\n",
        "# Get user input for mood\n",
        "user_mood = input(\"Enter your mood: \")\n",
        "\n",
        "# Get recommended books\n",
        "recommended_books = recommend_books_by_mood(user_mood)\n",
        "\n",
        "# Display recommended books\n",
        "print(f\"Recommended Top Rated Books for '{user_mood}':\")\n",
        "for index, row in recommended_books.iterrows():\n",
        "    print(f\"{row['book_title']} by {row['img_m']}, {row['rating']})\")"
      ],
      "metadata": {
        "colab": {
          "base_uri": "https://localhost:8080/"
        },
        "id": "5dGtI37Lxpl7",
        "outputId": "af2b166a-df5a-470e-cc62-19636e3a4710"
      },
      "execution_count": 66,
      "outputs": [
        {
          "output_type": "stream",
          "name": "stdout",
          "text": [
            "Enter your mood: happy\n",
            "Recommended Top Rated Books for 'happy':\n",
            "The Tarot Book: Basic Instruction for Reading Cards by http://images.amazon.com/images/P/0877287236.01.MZZZZZZZ.jpg, 10)\n",
            "The Dream Songs by http://images.amazon.com/images/P/0374516707.01.MZZZZZZZ.jpg, 10)\n",
            "Tore Out My Heart by http://images.amazon.com/images/P/0446370398.01.MZZZZZZZ.jpg, 10)\n",
            "Dead Poets Society by http://images.amazon.com/images/P/0553282980.01.MZZZZZZZ.jpg, 10)\n",
            "Irish Hearts by http://images.amazon.com/images/P/0373484003.01.MZZZZZZZ.jpg, 10)\n"
          ]
        }
      ]
    },
    {
      "cell_type": "code",
      "source": [
        "def content_based_recommender(book_title):\n",
        "    book_title = str(book_title)\n",
        "    # Check if the book exists in the dataset\n",
        "    if book_title in book['book_title'].values:\n",
        "        # Get the emotion attribute of the input book\n",
        "        input_emotion = book[book['book_title'] == book_title]['Emotions'].values[0]\n",
        "        # Get top-rated books with the same emotion attribute\n",
        "        top_related_books = book[(book['emotion_attribute'] == input_emotion) & (book['rating'] == 5)]\n",
        "        # Recommend the top-rated related books\n",
        "        if not top_related_books.empty:\n",
        "            print('Top-rated books related to the input book\\'s emotion attribute:')\n",
        "            for i in range(min(5, len(top_related_books))):\n",
        "                print(top_related_books.sample(1)['book_title'].item())\n",
        "        else:\n",
        "            print('No top-rated books found related to the input book\\'s emotion attribute')\n",
        "    else:\n",
        "        print('Book not found in the dataset')\n"
      ],
      "metadata": {
        "id": "-bNhVcDyyEhD"
      },
      "execution_count": 67,
      "outputs": []
    },
    {
      "cell_type": "code",
      "source": [
        "# Calling the content_based_recommender function with the title of the book\n",
        "content_based_recommender(\"The Great Gatsby\")\n"
      ],
      "metadata": {
        "colab": {
          "base_uri": "https://localhost:8080/"
        },
        "id": "ZwExVsx3yYJj",
        "outputId": "64d3f2d2-bfb0-4de4-82a9-7c9e832a9461"
      },
      "execution_count": 70,
      "outputs": [
        {
          "output_type": "stream",
          "name": "stdout",
          "text": [
            "Books with the same rating:\n",
            "Milkrun\n",
            "Harm's Way\n",
            "Under the Wishing Star (Star Trilogy (Paperback))\n",
            "Wild Animus\n",
            "ROMEO AND JULIET\n"
          ]
        }
      ]
    },
    {
      "cell_type": "code",
      "source": [
        "def content_based_recommender(book_title):\n",
        "    book_title = str(book_title)\n",
        "    # Check if the book exists in the dataset\n",
        "    if book_title in book['book_title'].values:\n",
        "        # Get the emotion attribute of the input book\n",
        "        input_emotion = book[book['book_title'] == book_title]['Emotions'].values[0]\n",
        "        # Get top-rated books with the same emotion attribute\n",
        "        top_related_books = book[(book['Emotions'] == input_emotion) & (book['rating'] == 10)]\n",
        "        # Recommend the top-rated related books\n",
        "        if not top_related_books.empty:\n",
        "            print('Top-rated books related to the input book\\'s Emotions:')\n",
        "            for i in range(min(5, len(top_related_books))):\n",
        "                recommended_book = top_related_books.sample(1)\n",
        "                print(f\"{recommended_book['book_title'].item()} (Rating: {recommended_book['rating'].item()})\")\n",
        "        else:\n",
        "            print('No top-rated books found related to the input book\\'s emotion attribute')\n",
        "    else:\n",
        "        print('Book not found in the dataset')\n"
      ],
      "metadata": {
        "id": "_5En_A93ysB6"
      },
      "execution_count": 78,
      "outputs": []
    },
    {
      "cell_type": "code",
      "source": [
        "content_based_recommender(\"The Catcher in the Rye\")"
      ],
      "metadata": {
        "colab": {
          "base_uri": "https://localhost:8080/"
        },
        "id": "kbRMw2VMwZb6",
        "outputId": "a5a885e5-b214-46b4-9786-385cfc4eee19"
      },
      "execution_count": 79,
      "outputs": [
        {
          "output_type": "stream",
          "name": "stdout",
          "text": [
            "Top-rated books related to the input book's Emotions:\n",
            "ADD-Friendly Ways to Organize Your Life (Rating: 10)\n",
            "Heart of the Home : Notes From a Vineyard Kitchen (Rating: 10)\n",
            "The Big Book of Beastly Mispronunciations : The Complete Opinionated Guide for the Careful Speaker (Rating: 10)\n",
            "About a Boy (Movie Tie-In) (Rating: 10)\n",
            "Watership Down (Rating: 10)\n"
          ]
        }
      ]
    },
    {
      "cell_type": "code",
      "source": [
        "content_based_recommender('Secret Codes 2003')"
      ],
      "metadata": {
        "colab": {
          "base_uri": "https://localhost:8080/"
        },
        "id": "6fUDYcBBwbQ9",
        "outputId": "06c8442a-60b8-410d-9583-de82764bd6e4"
      },
      "execution_count": 80,
      "outputs": [
        {
          "output_type": "stream",
          "name": "stdout",
          "text": [
            "Top-rated books related to the input book's Emotions:\n",
            "Ever After : A Cinderella Story (Laurel-Leaf Books) (Rating: 10)\n",
            "Natural Causes (Rating: 10)\n",
            "The Birds of Heaven: Travels with Cranes (Rating: 10)\n",
            "The True Story of the 3 Little Pigs (Rating: 10)\n",
            "Some Bitter Taste (Marshal Guarnaccia Investigation (Paperback)) (Rating: 10)\n"
          ]
        }
      ]
    },
    {
      "cell_type": "code",
      "source": [
        "def content_based_recommender(book_title):\n",
        "    book_title = str(book_title)\n",
        "    # Check if the book exists in the dataset\n",
        "    if book_title in book['book_title'].values:\n",
        "        # Get the emotion attribute of the input book\n",
        "        input_emotion = book[book['book_title'] == book_title]['Emotions'].values[0]\n",
        "\n",
        "        # Get top-rated books with the same emotion attribute\n",
        "        top_related_books = book[(book['Emotions'] == input_emotion) & ((book['rating'] >= 4) & (book['rating'] <= 8))]\n",
        "\n",
        "        # Recommend the top-rated related books\n",
        "        if not top_related_books.empty:\n",
        "            print('Top-rated books related to the input book\\'s emotion attribute:')\n",
        "            for i in range(min(5, len(top_related_books))):\n",
        "                recommended_book = top_related_books.sample(1)\n",
        "                print(f\"{recommended_book['book_title'].item()} (Rating: {recommended_book['rating'].item()})\")\n",
        "        else:\n",
        "            print('No top-rated books found related to the input book\\'s emotion attribute')\n",
        "\n",
        "        # Recommend additional books with ratings from 4 to 8 with the same emotion attribute\n",
        "        additional_related_books = book[(book['Emotions'] == input_emotion) & ((book['rating'] >= 4) & (book['rating'] <= 8))]\n",
        "        if not additional_related_books.empty:\n",
        "            print('\\nYou might also like these books:')\n",
        "            for i in range(min(5, len(additional_related_books))):\n",
        "                recommended_book = additional_related_books.sample(1)\n",
        "                print(f\"{recommended_book['book_title'].item()} (Rating: {recommended_book['rating'].item()})\")\n",
        "    else:\n",
        "        print('Book not found in the dataset')\n"
      ],
      "metadata": {
        "id": "8eGZVEj6zr3E"
      },
      "execution_count": 81,
      "outputs": []
    },
    {
      "cell_type": "code",
      "source": [
        "content_based_recommender('Secret Codes 2003')"
      ],
      "metadata": {
        "colab": {
          "base_uri": "https://localhost:8080/"
        },
        "id": "c3HM6-mMz1Um",
        "outputId": "bc26e016-c9ae-487a-f53d-33955758bb76"
      },
      "execution_count": 82,
      "outputs": [
        {
          "output_type": "stream",
          "name": "stdout",
          "text": [
            "Top-rated books related to the input book's emotion attribute:\n",
            "A Time to Kill (Rating: 7)\n",
            "Momo (Spanish Language Edition) (Rating: 7)\n",
            "The Heart Aroused : Poetry and the Preservation of the Soul in Corporate America (Rating: 7)\n",
            "Alice's Adventures in Wonderland/With All the Original Illustrations by Sir John Tenniel (Dover Thrift Editions) (Rating: 5)\n",
            "CONTACT (Rating: 7)\n",
            "\n",
            "You might also like these books:\n",
            "Tuesdays with Morrie: An Old Man, a Young Man, and Life's Greatest Lesson (Rating: 8)\n",
            "Hemlock Bay (Rating: 8)\n",
            "The Liar's Club: A Memoir (Rating: 8)\n",
            "The Temple of My Familiar (Rating: 5)\n",
            "Standoff (Rating: 7)\n"
          ]
        }
      ]
    },
    {
      "cell_type": "code",
      "source": [
        "import random\n",
        "\n",
        "# Select 10 random books from top_sad_books\n",
        "selected_sad_books = top_sad_books.sample(10)\n",
        "\n",
        "# Select 10 random books from happy_books_rating_10\n",
        "selected_happy_books = happy_books_rating_10.sample(10)\n",
        "\n",
        "# Combine the selected books\n",
        "combined_books = pd.concat([selected_sad_books, selected_happy_books], ignore_index=True)\n",
        "\n",
        "# Print the selected books with their titles and image URLs\n",
        "print(\"Selected Random Books:\")\n",
        "print(combined_books[['book_title', 'img_m']])"
      ],
      "metadata": {
        "colab": {
          "base_uri": "https://localhost:8080/"
        },
        "id": "oHzyaGXJz9AT",
        "outputId": "ba457e94-6c4e-4911-b20f-f36e95cf27e0"
      },
      "execution_count": 83,
      "outputs": [
        {
          "output_type": "stream",
          "name": "stdout",
          "text": [
            "Selected Random Books:\n",
            "                                           book_title  \\\n",
            "0                  The Edge of the Crazies: A Mystery   \n",
            "1                                          Dead Wrong   \n",
            "2                                    The Evening Star   \n",
            "3                            Angela's Ashes: A Memoir   \n",
            "4                        Suzanne's Diary for Nicholas   \n",
            "5                                   Presumed Innocent   \n",
            "6   Troublemaker: One Man's Crusade Against China'...   \n",
            "7                                        Illumination   \n",
            "8     Divine Secrets of the Ya-Ya Sisterhood: A Novel   \n",
            "9               A Band of Brothers (Lost Regiment, 7)   \n",
            "10                                1st to Die: A Novel   \n",
            "11                                         Blood Work   \n",
            "12                      La Cucina: A Novel of Rapture   \n",
            "13                              To Kill a Mockingbird   \n",
            "14                                       Shoeless Joe   \n",
            "15                                        INHERITANCE   \n",
            "16      Fried Green Tomatoes at the Whistle Stop Cafe   \n",
            "17                   Nearly Impossible Brain Bafflers   \n",
            "18       The Wonderful Wizard of Oz (Books of Wonder)   \n",
            "19                 Extravagaria : A Bilingual Edition   \n",
            "\n",
            "                                                img_m  \n",
            "0   http://images.amazon.com/images/P/0786860855.0...  \n",
            "1   http://images.amazon.com/images/P/0345463927.0...  \n",
            "2   http://images.amazon.com/images/P/0671004271.0...  \n",
            "3   http://images.amazon.com/images/P/068484267X.0...  \n",
            "4   http://images.amazon.com/images/P/0446611085.0...  \n",
            "5   http://images.amazon.com/images/P/0446350982.0...  \n",
            "6   http://images.amazon.com/images/P/0812963741.0...  \n",
            "7   http://images.amazon.com/images/P/0812540034.0...  \n",
            "8   http://images.amazon.com/images/P/0060928336.0...  \n",
            "9   http://images.amazon.com/images/P/0451457056.0...  \n",
            "10  http://images.amazon.com/images/P/0446610038.0...  \n",
            "11  http://images.amazon.com/images/P/0446602620.0...  \n",
            "12  http://images.amazon.com/images/P/0060953691.0...  \n",
            "13  http://images.amazon.com/images/P/0446310786.0...  \n",
            "14  http://images.amazon.com/images/P/0345342569.0...  \n",
            "15  http://images.amazon.com/images/P/0671674463.0...  \n",
            "16  http://images.amazon.com/images/P/0804115613.0...  \n",
            "17  http://images.amazon.com/images/P/0806962933.0...  \n",
            "18  http://images.amazon.com/images/P/0688069444.0...  \n",
            "19  http://images.amazon.com/images/P/0374512388.0...  \n"
          ]
        }
      ]
    },
    {
      "cell_type": "code",
      "source": [
        "# Previous code for selecting random 10 books from both top_sad_books and happy_books_rating_10 and displaying book_title and img_m\n",
        "\n",
        "combination_of_happy_and_sad = \"Combination of happy and sad books:\\n\"\n",
        "\n",
        "for index, row in combined_books[['book_title', 'img_m']].iterrows():\n",
        "    combination_of_happy_and_sad += f\"{row['book_title']} - {row['img_m']}\\n\"\n",
        "\n",
        "print(combination_of_happy_and_sad)"
      ],
      "metadata": {
        "colab": {
          "base_uri": "https://localhost:8080/"
        },
        "id": "ATTq-ZuH0cea",
        "outputId": "4a841620-8188-4f51-ec77-24d4a30a89b0"
      },
      "execution_count": 84,
      "outputs": [
        {
          "output_type": "stream",
          "name": "stdout",
          "text": [
            "Combination of happy and sad books:\n",
            "The Edge of the Crazies: A Mystery - http://images.amazon.com/images/P/0786860855.01.MZZZZZZZ.jpg\n",
            "Dead Wrong - http://images.amazon.com/images/P/0345463927.01.MZZZZZZZ.jpg\n",
            "The Evening Star - http://images.amazon.com/images/P/0671004271.01.MZZZZZZZ.jpg\n",
            "Angela's Ashes: A Memoir - http://images.amazon.com/images/P/068484267X.01.MZZZZZZZ.jpg\n",
            "Suzanne's Diary for Nicholas - http://images.amazon.com/images/P/0446611085.01.MZZZZZZZ.jpg\n",
            "Presumed Innocent - http://images.amazon.com/images/P/0446350982.01.MZZZZZZZ.jpg\n",
            "Troublemaker: One Man's Crusade Against China's Cruelty - http://images.amazon.com/images/P/0812963741.01.MZZZZZZZ.jpg\n",
            "Illumination - http://images.amazon.com/images/P/0812540034.01.MZZZZZZZ.jpg\n",
            "Divine Secrets of the Ya-Ya Sisterhood: A Novel - http://images.amazon.com/images/P/0060928336.01.MZZZZZZZ.jpg\n",
            "A Band of Brothers (Lost Regiment, 7) - http://images.amazon.com/images/P/0451457056.01.MZZZZZZZ.jpg\n",
            "1st to Die: A Novel - http://images.amazon.com/images/P/0446610038.01.MZZZZZZZ.jpg\n",
            "Blood Work - http://images.amazon.com/images/P/0446602620.01.MZZZZZZZ.jpg\n",
            "La Cucina: A Novel of Rapture - http://images.amazon.com/images/P/0060953691.01.MZZZZZZZ.jpg\n",
            "To Kill a Mockingbird - http://images.amazon.com/images/P/0446310786.01.MZZZZZZZ.jpg\n",
            "Shoeless Joe - http://images.amazon.com/images/P/0345342569.01.MZZZZZZZ.jpg\n",
            "INHERITANCE - http://images.amazon.com/images/P/0671674463.01.MZZZZZZZ.jpg\n",
            "Fried Green Tomatoes at the Whistle Stop Cafe - http://images.amazon.com/images/P/0804115613.01.MZZZZZZZ.jpg\n",
            "Nearly Impossible Brain Bafflers - http://images.amazon.com/images/P/0806962933.01.MZZZZZZZ.jpg\n",
            "The Wonderful Wizard of Oz (Books of Wonder) - http://images.amazon.com/images/P/0688069444.01.MZZZZZZZ.jpg\n",
            "Extravagaria : A Bilingual Edition - http://images.amazon.com/images/P/0374512388.01.MZZZZZZZ.jpg\n",
            "\n"
          ]
        }
      ]
    },
    {
      "cell_type": "code",
      "source": [
        "class MoodMeter:\n",
        "    def __init__(self):\n",
        "        self.mood_scores = {\n",
        "            'Happy': 0,\n",
        "            'Neutral': 0,\n",
        "            'Sad': 0,\n",
        "\n",
        "        }\n",
        "\n",
        "    def ask_question(self, question):\n",
        "        response = input(question + \" (Enter a rating from 1 to 5, where 1 is strongly disagree and 5 is strongly agree): \")\n",
        "        try:\n",
        "            rating = int(response)\n",
        "            if 1 <= rating <= 5:\n",
        "                return rating\n",
        "            else:\n",
        "                print(\"Invalid response. Please enter a number between 1 and 5.\")\n",
        "                return self.ask_question(question)\n",
        "        except ValueError:\n",
        "            print(\"Invalid response. Please enter a number between 1 and 5.\")\n",
        "            return self.ask_question(question)\n",
        "\n",
        "    def assess_mood(self):\n",
        "        print(\"Mood Assessment:\")\n",
        "        self.mood_scores['Happy'] += self.ask_question(\"I feel happy today.\")\n",
        "        self.mood_scores['Neutral'] += self.ask_question(\"I feel neither happy nor sad.\")\n",
        "        self.mood_scores['Sad'] += self.ask_question(\"I feel sad or down.\")\n",
        "\n",
        "    def get_dominant_mood(self):\n",
        "        max_mood = max(self.mood_scores, key=self.mood_scores.get)\n",
        "        print(f\"\\nYour dominant mood is: {max_mood}\")\n",
        "        return max_mood.lower()\n",
        "\n",
        "def recommend_books_by_mood(user_mood):\n",
        "    # Add your book recommendation logic based on user's mood here\n",
        "    # For demonstration purposes, a simple dictionary is used.\n",
        "    mood_books = {\n",
        "        'happy': [(combination_of_happy_and_sad)],\n",
        "        'sad': [(happy_books_rating_10[['book_title', 'img_m']].head(10))],\n",
        "        'neutral': [(neutral_books_rating_10[['book_title', 'img_m']].head(10))]\n",
        "    }\n",
        "\n",
        "    return mood_books.get(user_mood, [])\n",
        "\n",
        "if __name__ == \"__main__\":\n",
        "    mood_meter_instance = MoodMeter()\n",
        "    mood_meter_instance.assess_mood()\n",
        "    user_mood = mood_meter_instance.get_dominant_mood()\n",
        "    recommended_books = recommend_books_by_mood(user_mood)\n",
        "\n",
        "    if recommended_books:\n",
        "        print(f\"\\nRecommended Books for {user_mood.capitalize()} mood:\")\n",
        "        for book in recommended_books:\n",
        "            print(f\"- {book}\")\n",
        "    else:\n",
        "        print(f\"\\nNo books found for {user_mood.capitalize()} mood. Try another mood.\")"
      ],
      "metadata": {
        "colab": {
          "base_uri": "https://localhost:8080/"
        },
        "id": "fizGFaQZ0jwW",
        "outputId": "1d706cff-3c92-4077-afec-8f666c7912f8"
      },
      "execution_count": 85,
      "outputs": [
        {
          "output_type": "stream",
          "name": "stdout",
          "text": [
            "Mood Assessment:\n",
            "I feel happy today. (Enter a rating from 1 to 5, where 1 is strongly disagree and 5 is strongly agree): 3\n",
            "I feel neither happy nor sad. (Enter a rating from 1 to 5, where 1 is strongly disagree and 5 is strongly agree): 4\n",
            "I feel sad or down. (Enter a rating from 1 to 5, where 1 is strongly disagree and 5 is strongly agree): 5\n",
            "\n",
            "Your dominant mood is: Sad\n",
            "\n",
            "Recommended Books for Sad mood:\n",
            "-                                             book_title  \\\n",
            "12   The Skeptic's Dictionary: A Collection of Stra...   \n",
            "364                     Poultry (The Good Cook Series)   \n",
            "397                                               Cujo   \n",
            "446                              To Kill a Mockingbird   \n",
            "514                         The Nanny Diaries: A Novel   \n",
            "517  Chic Simple Dress Smart for Women: Wardrobes t...   \n",
            "673                                       Mondo Canine   \n",
            "742                                           One Wish   \n",
            "811                                   Golf for Dummies   \n",
            "837                                    Cold Sassy Tree   \n",
            "\n",
            "                                                 img_m  \n",
            "12   http://images.amazon.com/images/P/0471272426.0...  \n",
            "364  http://images.amazon.com/images/P/0809428504.0...  \n",
            "397  http://images.amazon.com/images/P/0451161351.0...  \n",
            "446  http://images.amazon.com/images/P/0446310786.0...  \n",
            "514  http://images.amazon.com/images/P/0312278586.0...  \n",
            "517  http://images.amazon.com/images/P/0446530441.0...  \n",
            "673  http://images.amazon.com/images/P/0452268516.0...  \n",
            "742  http://images.amazon.com/images/P/0671537865.0...  \n",
            "811  http://images.amazon.com/images/P/0764551469.0...  \n",
            "837  http://images.amazon.com/images/P/0440212723.0...  \n"
          ]
        }
      ]
    },
    {
      "cell_type": "code",
      "source": [],
      "metadata": {
        "id": "OBHL6FJV2Ibk"
      },
      "execution_count": null,
      "outputs": []
    },
    {
      "cell_type": "code",
      "execution_count": null,
      "metadata": {
        "colab": {
          "base_uri": "https://localhost:8080/"
        },
        "id": "0bCgbVuOfgmW",
        "outputId": "9a8f562d-f86c-4e63-af20-b7e9c32639b5"
      },
      "outputs": [
        {
          "name": "stdout",
          "output_type": "stream",
          "text": [
            "Accuracy: 0.812\n",
            "\n",
            "Classification Report:\n",
            "              precision    recall  f1-score   support\n",
            "\n",
            "       happy       0.82      0.67      0.74      1032\n",
            "     neutral       0.85      0.86      0.85      3454\n",
            "         sad       0.73      0.81      0.77      1514\n",
            "\n",
            "    accuracy                           0.81      6000\n",
            "   macro avg       0.80      0.78      0.79      6000\n",
            "weighted avg       0.81      0.81      0.81      6000\n",
            "\n"
          ]
        }
      ],
      "source": [
        "import pandas as pd\n",
        "from sklearn.model_selection import train_test_split\n",
        "from sklearn.feature_extraction.text import TfidfVectorizer\n",
        "from sklearn.naive_bayes import MultinomialNB\n",
        "from sklearn.metrics import classification_report, accuracy_score\n",
        "from nltk.corpus import stopwords\n",
        "from nltk.stem import WordNetLemmatizer\n",
        "import re\n",
        "\n",
        "# Pre-processing function to clean and lemmatize the text data\n",
        "def preprocess_text(text):\n",
        "    # Remove special characters and digits\n",
        "    text = re.sub(r'\\W|\\d', ' ', text)\n",
        "    # Convert to lowercase\n",
        "    text = text.lower()\n",
        "    # Tokenize the text\n",
        "    words = text.split()\n",
        "    # Remove stopwords\n",
        "    words = [word for word in words if word not in stopwords.words('english')]\n",
        "    # Lemmatize the words\n",
        "    lemmatizer = WordNetLemmatizer()\n",
        "    words = [lemmatizer.lemmatize(word) for word in words]\n",
        "    # Join the words back into a single string\n",
        "    text = ' '.join(words)\n",
        "    return text\n",
        "\n",
        "# Pre-process the text data\n",
        "books['Summary'] = books['Summary'].apply(preprocess_text)\n",
        "\n",
        "# Split the dataset into training and testing sets\n",
        "X_train, X_test, y_train, y_test = train_test_split(books['Summary'], books['Emotions'], test_size=0.2, random_state=42)\n",
        "\n",
        "# Create TF-IDF vectors from the text data\n",
        "vectorizer = TfidfVectorizer(max_features=5000)\n",
        "X_train_vectorized = vectorizer.fit_transform(X_train)\n",
        "X_test_vectorized = vectorizer.transform(X_test)\n",
        "\n",
        "# Train a Naive Bayes classifier\n",
        "clf = MultinomialNB()\n",
        "clf.fit(X_train_vectorized, y_train)\n",
        "\n",
        "# Make predictions on the test set\n",
        "predictions = clf.predict(X_test_vectorized)\n",
        "\n",
        "# Evaluate the model\n",
        "print(\"Accuracy:\", accuracy_score(y_test, predictions))\n",
        "print(\"\\nClassification Report:\")\n",
        "print(classification_report(y_test, predictions))"
      ]
    }
  ],
  "metadata": {
    "colab": {
      "provenance": []
    },
    "kernelspec": {
      "display_name": "Python 3",
      "name": "python3"
    },
    "language_info": {
      "name": "python"
    },
    "widgets": {
      "application/vnd.jupyter.widget-state+json": {
        "7570370f33c24b99b30f0ddafb3d37ee": {
          "model_module": "@jupyter-widgets/controls",
          "model_name": "HBoxModel",
          "model_module_version": "1.5.0",
          "state": {
            "_dom_classes": [],
            "_model_module": "@jupyter-widgets/controls",
            "_model_module_version": "1.5.0",
            "_model_name": "HBoxModel",
            "_view_count": null,
            "_view_module": "@jupyter-widgets/controls",
            "_view_module_version": "1.5.0",
            "_view_name": "HBoxView",
            "box_style": "",
            "children": [
              "IPY_MODEL_4bee4cf1cfae4618b4288862e173edaf",
              "IPY_MODEL_f59d7bc621c34131925ff042fd55b9d7",
              "IPY_MODEL_ece11a7dca264995b35695d64f31c3c6"
            ],
            "layout": "IPY_MODEL_d16129af5b96400da1c7ee41e82b15ae"
          }
        },
        "4bee4cf1cfae4618b4288862e173edaf": {
          "model_module": "@jupyter-widgets/controls",
          "model_name": "HTMLModel",
          "model_module_version": "1.5.0",
          "state": {
            "_dom_classes": [],
            "_model_module": "@jupyter-widgets/controls",
            "_model_module_version": "1.5.0",
            "_model_name": "HTMLModel",
            "_view_count": null,
            "_view_module": "@jupyter-widgets/controls",
            "_view_module_version": "1.5.0",
            "_view_name": "HTMLView",
            "description": "",
            "description_tooltip": null,
            "layout": "IPY_MODEL_08894de9aa62426193e3395614ba1268",
            "placeholder": "​",
            "style": "IPY_MODEL_1b6fe1397d33414ea8fa7359545ccd43",
            "value": "tokenizer_config.json: 100%"
          }
        },
        "f59d7bc621c34131925ff042fd55b9d7": {
          "model_module": "@jupyter-widgets/controls",
          "model_name": "FloatProgressModel",
          "model_module_version": "1.5.0",
          "state": {
            "_dom_classes": [],
            "_model_module": "@jupyter-widgets/controls",
            "_model_module_version": "1.5.0",
            "_model_name": "FloatProgressModel",
            "_view_count": null,
            "_view_module": "@jupyter-widgets/controls",
            "_view_module_version": "1.5.0",
            "_view_name": "ProgressView",
            "bar_style": "success",
            "description": "",
            "description_tooltip": null,
            "layout": "IPY_MODEL_eef9ae1ecd1d46c1a3f2b75d97d94fd2",
            "max": 413,
            "min": 0,
            "orientation": "horizontal",
            "style": "IPY_MODEL_6a267fcad9764d049506ccb4467bfc16",
            "value": 413
          }
        },
        "ece11a7dca264995b35695d64f31c3c6": {
          "model_module": "@jupyter-widgets/controls",
          "model_name": "HTMLModel",
          "model_module_version": "1.5.0",
          "state": {
            "_dom_classes": [],
            "_model_module": "@jupyter-widgets/controls",
            "_model_module_version": "1.5.0",
            "_model_name": "HTMLModel",
            "_view_count": null,
            "_view_module": "@jupyter-widgets/controls",
            "_view_module_version": "1.5.0",
            "_view_name": "HTMLView",
            "description": "",
            "description_tooltip": null,
            "layout": "IPY_MODEL_3a98ad5a60454f8e99ce4fb47cf8826c",
            "placeholder": "​",
            "style": "IPY_MODEL_1b210571540146b687178e5c71284b3b",
            "value": " 413/413 [00:00&lt;00:00, 3.82kB/s]"
          }
        },
        "d16129af5b96400da1c7ee41e82b15ae": {
          "model_module": "@jupyter-widgets/base",
          "model_name": "LayoutModel",
          "model_module_version": "1.2.0",
          "state": {
            "_model_module": "@jupyter-widgets/base",
            "_model_module_version": "1.2.0",
            "_model_name": "LayoutModel",
            "_view_count": null,
            "_view_module": "@jupyter-widgets/base",
            "_view_module_version": "1.2.0",
            "_view_name": "LayoutView",
            "align_content": null,
            "align_items": null,
            "align_self": null,
            "border": null,
            "bottom": null,
            "display": null,
            "flex": null,
            "flex_flow": null,
            "grid_area": null,
            "grid_auto_columns": null,
            "grid_auto_flow": null,
            "grid_auto_rows": null,
            "grid_column": null,
            "grid_gap": null,
            "grid_row": null,
            "grid_template_areas": null,
            "grid_template_columns": null,
            "grid_template_rows": null,
            "height": null,
            "justify_content": null,
            "justify_items": null,
            "left": null,
            "margin": null,
            "max_height": null,
            "max_width": null,
            "min_height": null,
            "min_width": null,
            "object_fit": null,
            "object_position": null,
            "order": null,
            "overflow": null,
            "overflow_x": null,
            "overflow_y": null,
            "padding": null,
            "right": null,
            "top": null,
            "visibility": null,
            "width": null
          }
        },
        "08894de9aa62426193e3395614ba1268": {
          "model_module": "@jupyter-widgets/base",
          "model_name": "LayoutModel",
          "model_module_version": "1.2.0",
          "state": {
            "_model_module": "@jupyter-widgets/base",
            "_model_module_version": "1.2.0",
            "_model_name": "LayoutModel",
            "_view_count": null,
            "_view_module": "@jupyter-widgets/base",
            "_view_module_version": "1.2.0",
            "_view_name": "LayoutView",
            "align_content": null,
            "align_items": null,
            "align_self": null,
            "border": null,
            "bottom": null,
            "display": null,
            "flex": null,
            "flex_flow": null,
            "grid_area": null,
            "grid_auto_columns": null,
            "grid_auto_flow": null,
            "grid_auto_rows": null,
            "grid_column": null,
            "grid_gap": null,
            "grid_row": null,
            "grid_template_areas": null,
            "grid_template_columns": null,
            "grid_template_rows": null,
            "height": null,
            "justify_content": null,
            "justify_items": null,
            "left": null,
            "margin": null,
            "max_height": null,
            "max_width": null,
            "min_height": null,
            "min_width": null,
            "object_fit": null,
            "object_position": null,
            "order": null,
            "overflow": null,
            "overflow_x": null,
            "overflow_y": null,
            "padding": null,
            "right": null,
            "top": null,
            "visibility": null,
            "width": null
          }
        },
        "1b6fe1397d33414ea8fa7359545ccd43": {
          "model_module": "@jupyter-widgets/controls",
          "model_name": "DescriptionStyleModel",
          "model_module_version": "1.5.0",
          "state": {
            "_model_module": "@jupyter-widgets/controls",
            "_model_module_version": "1.5.0",
            "_model_name": "DescriptionStyleModel",
            "_view_count": null,
            "_view_module": "@jupyter-widgets/base",
            "_view_module_version": "1.2.0",
            "_view_name": "StyleView",
            "description_width": ""
          }
        },
        "eef9ae1ecd1d46c1a3f2b75d97d94fd2": {
          "model_module": "@jupyter-widgets/base",
          "model_name": "LayoutModel",
          "model_module_version": "1.2.0",
          "state": {
            "_model_module": "@jupyter-widgets/base",
            "_model_module_version": "1.2.0",
            "_model_name": "LayoutModel",
            "_view_count": null,
            "_view_module": "@jupyter-widgets/base",
            "_view_module_version": "1.2.0",
            "_view_name": "LayoutView",
            "align_content": null,
            "align_items": null,
            "align_self": null,
            "border": null,
            "bottom": null,
            "display": null,
            "flex": null,
            "flex_flow": null,
            "grid_area": null,
            "grid_auto_columns": null,
            "grid_auto_flow": null,
            "grid_auto_rows": null,
            "grid_column": null,
            "grid_gap": null,
            "grid_row": null,
            "grid_template_areas": null,
            "grid_template_columns": null,
            "grid_template_rows": null,
            "height": null,
            "justify_content": null,
            "justify_items": null,
            "left": null,
            "margin": null,
            "max_height": null,
            "max_width": null,
            "min_height": null,
            "min_width": null,
            "object_fit": null,
            "object_position": null,
            "order": null,
            "overflow": null,
            "overflow_x": null,
            "overflow_y": null,
            "padding": null,
            "right": null,
            "top": null,
            "visibility": null,
            "width": null
          }
        },
        "6a267fcad9764d049506ccb4467bfc16": {
          "model_module": "@jupyter-widgets/controls",
          "model_name": "ProgressStyleModel",
          "model_module_version": "1.5.0",
          "state": {
            "_model_module": "@jupyter-widgets/controls",
            "_model_module_version": "1.5.0",
            "_model_name": "ProgressStyleModel",
            "_view_count": null,
            "_view_module": "@jupyter-widgets/base",
            "_view_module_version": "1.2.0",
            "_view_name": "StyleView",
            "bar_color": null,
            "description_width": ""
          }
        },
        "3a98ad5a60454f8e99ce4fb47cf8826c": {
          "model_module": "@jupyter-widgets/base",
          "model_name": "LayoutModel",
          "model_module_version": "1.2.0",
          "state": {
            "_model_module": "@jupyter-widgets/base",
            "_model_module_version": "1.2.0",
            "_model_name": "LayoutModel",
            "_view_count": null,
            "_view_module": "@jupyter-widgets/base",
            "_view_module_version": "1.2.0",
            "_view_name": "LayoutView",
            "align_content": null,
            "align_items": null,
            "align_self": null,
            "border": null,
            "bottom": null,
            "display": null,
            "flex": null,
            "flex_flow": null,
            "grid_area": null,
            "grid_auto_columns": null,
            "grid_auto_flow": null,
            "grid_auto_rows": null,
            "grid_column": null,
            "grid_gap": null,
            "grid_row": null,
            "grid_template_areas": null,
            "grid_template_columns": null,
            "grid_template_rows": null,
            "height": null,
            "justify_content": null,
            "justify_items": null,
            "left": null,
            "margin": null,
            "max_height": null,
            "max_width": null,
            "min_height": null,
            "min_width": null,
            "object_fit": null,
            "object_position": null,
            "order": null,
            "overflow": null,
            "overflow_x": null,
            "overflow_y": null,
            "padding": null,
            "right": null,
            "top": null,
            "visibility": null,
            "width": null
          }
        },
        "1b210571540146b687178e5c71284b3b": {
          "model_module": "@jupyter-widgets/controls",
          "model_name": "DescriptionStyleModel",
          "model_module_version": "1.5.0",
          "state": {
            "_model_module": "@jupyter-widgets/controls",
            "_model_module_version": "1.5.0",
            "_model_name": "DescriptionStyleModel",
            "_view_count": null,
            "_view_module": "@jupyter-widgets/base",
            "_view_module_version": "1.2.0",
            "_view_name": "StyleView",
            "description_width": ""
          }
        },
        "c19f2ec30d71422582edee4a18ff2e0f": {
          "model_module": "@jupyter-widgets/controls",
          "model_name": "HBoxModel",
          "model_module_version": "1.5.0",
          "state": {
            "_dom_classes": [],
            "_model_module": "@jupyter-widgets/controls",
            "_model_module_version": "1.5.0",
            "_model_name": "HBoxModel",
            "_view_count": null,
            "_view_module": "@jupyter-widgets/controls",
            "_view_module_version": "1.5.0",
            "_view_name": "HBoxView",
            "box_style": "",
            "children": [
              "IPY_MODEL_78df7c0b7e48423392cd7ed205c6e179",
              "IPY_MODEL_9a5c1ce2da1949a6b999b1b3a175b128",
              "IPY_MODEL_d79ef5b51b9840f89c1f0b5c3705887e"
            ],
            "layout": "IPY_MODEL_a360a2b4249a453691abbce47c6b9774"
          }
        },
        "78df7c0b7e48423392cd7ed205c6e179": {
          "model_module": "@jupyter-widgets/controls",
          "model_name": "HTMLModel",
          "model_module_version": "1.5.0",
          "state": {
            "_dom_classes": [],
            "_model_module": "@jupyter-widgets/controls",
            "_model_module_version": "1.5.0",
            "_model_name": "HTMLModel",
            "_view_count": null,
            "_view_module": "@jupyter-widgets/controls",
            "_view_module_version": "1.5.0",
            "_view_name": "HTMLView",
            "description": "",
            "description_tooltip": null,
            "layout": "IPY_MODEL_8eeaad872f92476ca33ab2d6358721e1",
            "placeholder": "​",
            "style": "IPY_MODEL_1de73847137947ee9cfbf9968457d055",
            "value": "vocab.json: 100%"
          }
        },
        "9a5c1ce2da1949a6b999b1b3a175b128": {
          "model_module": "@jupyter-widgets/controls",
          "model_name": "FloatProgressModel",
          "model_module_version": "1.5.0",
          "state": {
            "_dom_classes": [],
            "_model_module": "@jupyter-widgets/controls",
            "_model_module_version": "1.5.0",
            "_model_name": "FloatProgressModel",
            "_view_count": null,
            "_view_module": "@jupyter-widgets/controls",
            "_view_module_version": "1.5.0",
            "_view_name": "ProgressView",
            "bar_style": "success",
            "description": "",
            "description_tooltip": null,
            "layout": "IPY_MODEL_0852bef13e1c48fab8bf358731eb06d7",
            "max": 798293,
            "min": 0,
            "orientation": "horizontal",
            "style": "IPY_MODEL_98fcbe59521649b08aa546fd507974b6",
            "value": 798293
          }
        },
        "d79ef5b51b9840f89c1f0b5c3705887e": {
          "model_module": "@jupyter-widgets/controls",
          "model_name": "HTMLModel",
          "model_module_version": "1.5.0",
          "state": {
            "_dom_classes": [],
            "_model_module": "@jupyter-widgets/controls",
            "_model_module_version": "1.5.0",
            "_model_name": "HTMLModel",
            "_view_count": null,
            "_view_module": "@jupyter-widgets/controls",
            "_view_module_version": "1.5.0",
            "_view_name": "HTMLView",
            "description": "",
            "description_tooltip": null,
            "layout": "IPY_MODEL_7f2783d1484c47dfb28eda2bc312e367",
            "placeholder": "​",
            "style": "IPY_MODEL_89f131bfbbf8436dbdfaba4b3ac93814",
            "value": " 798k/798k [00:00&lt;00:00, 6.38MB/s]"
          }
        },
        "a360a2b4249a453691abbce47c6b9774": {
          "model_module": "@jupyter-widgets/base",
          "model_name": "LayoutModel",
          "model_module_version": "1.2.0",
          "state": {
            "_model_module": "@jupyter-widgets/base",
            "_model_module_version": "1.2.0",
            "_model_name": "LayoutModel",
            "_view_count": null,
            "_view_module": "@jupyter-widgets/base",
            "_view_module_version": "1.2.0",
            "_view_name": "LayoutView",
            "align_content": null,
            "align_items": null,
            "align_self": null,
            "border": null,
            "bottom": null,
            "display": null,
            "flex": null,
            "flex_flow": null,
            "grid_area": null,
            "grid_auto_columns": null,
            "grid_auto_flow": null,
            "grid_auto_rows": null,
            "grid_column": null,
            "grid_gap": null,
            "grid_row": null,
            "grid_template_areas": null,
            "grid_template_columns": null,
            "grid_template_rows": null,
            "height": null,
            "justify_content": null,
            "justify_items": null,
            "left": null,
            "margin": null,
            "max_height": null,
            "max_width": null,
            "min_height": null,
            "min_width": null,
            "object_fit": null,
            "object_position": null,
            "order": null,
            "overflow": null,
            "overflow_x": null,
            "overflow_y": null,
            "padding": null,
            "right": null,
            "top": null,
            "visibility": null,
            "width": null
          }
        },
        "8eeaad872f92476ca33ab2d6358721e1": {
          "model_module": "@jupyter-widgets/base",
          "model_name": "LayoutModel",
          "model_module_version": "1.2.0",
          "state": {
            "_model_module": "@jupyter-widgets/base",
            "_model_module_version": "1.2.0",
            "_model_name": "LayoutModel",
            "_view_count": null,
            "_view_module": "@jupyter-widgets/base",
            "_view_module_version": "1.2.0",
            "_view_name": "LayoutView",
            "align_content": null,
            "align_items": null,
            "align_self": null,
            "border": null,
            "bottom": null,
            "display": null,
            "flex": null,
            "flex_flow": null,
            "grid_area": null,
            "grid_auto_columns": null,
            "grid_auto_flow": null,
            "grid_auto_rows": null,
            "grid_column": null,
            "grid_gap": null,
            "grid_row": null,
            "grid_template_areas": null,
            "grid_template_columns": null,
            "grid_template_rows": null,
            "height": null,
            "justify_content": null,
            "justify_items": null,
            "left": null,
            "margin": null,
            "max_height": null,
            "max_width": null,
            "min_height": null,
            "min_width": null,
            "object_fit": null,
            "object_position": null,
            "order": null,
            "overflow": null,
            "overflow_x": null,
            "overflow_y": null,
            "padding": null,
            "right": null,
            "top": null,
            "visibility": null,
            "width": null
          }
        },
        "1de73847137947ee9cfbf9968457d055": {
          "model_module": "@jupyter-widgets/controls",
          "model_name": "DescriptionStyleModel",
          "model_module_version": "1.5.0",
          "state": {
            "_model_module": "@jupyter-widgets/controls",
            "_model_module_version": "1.5.0",
            "_model_name": "DescriptionStyleModel",
            "_view_count": null,
            "_view_module": "@jupyter-widgets/base",
            "_view_module_version": "1.2.0",
            "_view_name": "StyleView",
            "description_width": ""
          }
        },
        "0852bef13e1c48fab8bf358731eb06d7": {
          "model_module": "@jupyter-widgets/base",
          "model_name": "LayoutModel",
          "model_module_version": "1.2.0",
          "state": {
            "_model_module": "@jupyter-widgets/base",
            "_model_module_version": "1.2.0",
            "_model_name": "LayoutModel",
            "_view_count": null,
            "_view_module": "@jupyter-widgets/base",
            "_view_module_version": "1.2.0",
            "_view_name": "LayoutView",
            "align_content": null,
            "align_items": null,
            "align_self": null,
            "border": null,
            "bottom": null,
            "display": null,
            "flex": null,
            "flex_flow": null,
            "grid_area": null,
            "grid_auto_columns": null,
            "grid_auto_flow": null,
            "grid_auto_rows": null,
            "grid_column": null,
            "grid_gap": null,
            "grid_row": null,
            "grid_template_areas": null,
            "grid_template_columns": null,
            "grid_template_rows": null,
            "height": null,
            "justify_content": null,
            "justify_items": null,
            "left": null,
            "margin": null,
            "max_height": null,
            "max_width": null,
            "min_height": null,
            "min_width": null,
            "object_fit": null,
            "object_position": null,
            "order": null,
            "overflow": null,
            "overflow_x": null,
            "overflow_y": null,
            "padding": null,
            "right": null,
            "top": null,
            "visibility": null,
            "width": null
          }
        },
        "98fcbe59521649b08aa546fd507974b6": {
          "model_module": "@jupyter-widgets/controls",
          "model_name": "ProgressStyleModel",
          "model_module_version": "1.5.0",
          "state": {
            "_model_module": "@jupyter-widgets/controls",
            "_model_module_version": "1.5.0",
            "_model_name": "ProgressStyleModel",
            "_view_count": null,
            "_view_module": "@jupyter-widgets/base",
            "_view_module_version": "1.2.0",
            "_view_name": "StyleView",
            "bar_color": null,
            "description_width": ""
          }
        },
        "7f2783d1484c47dfb28eda2bc312e367": {
          "model_module": "@jupyter-widgets/base",
          "model_name": "LayoutModel",
          "model_module_version": "1.2.0",
          "state": {
            "_model_module": "@jupyter-widgets/base",
            "_model_module_version": "1.2.0",
            "_model_name": "LayoutModel",
            "_view_count": null,
            "_view_module": "@jupyter-widgets/base",
            "_view_module_version": "1.2.0",
            "_view_name": "LayoutView",
            "align_content": null,
            "align_items": null,
            "align_self": null,
            "border": null,
            "bottom": null,
            "display": null,
            "flex": null,
            "flex_flow": null,
            "grid_area": null,
            "grid_auto_columns": null,
            "grid_auto_flow": null,
            "grid_auto_rows": null,
            "grid_column": null,
            "grid_gap": null,
            "grid_row": null,
            "grid_template_areas": null,
            "grid_template_columns": null,
            "grid_template_rows": null,
            "height": null,
            "justify_content": null,
            "justify_items": null,
            "left": null,
            "margin": null,
            "max_height": null,
            "max_width": null,
            "min_height": null,
            "min_width": null,
            "object_fit": null,
            "object_position": null,
            "order": null,
            "overflow": null,
            "overflow_x": null,
            "overflow_y": null,
            "padding": null,
            "right": null,
            "top": null,
            "visibility": null,
            "width": null
          }
        },
        "89f131bfbbf8436dbdfaba4b3ac93814": {
          "model_module": "@jupyter-widgets/controls",
          "model_name": "DescriptionStyleModel",
          "model_module_version": "1.5.0",
          "state": {
            "_model_module": "@jupyter-widgets/controls",
            "_model_module_version": "1.5.0",
            "_model_name": "DescriptionStyleModel",
            "_view_count": null,
            "_view_module": "@jupyter-widgets/base",
            "_view_module_version": "1.2.0",
            "_view_name": "StyleView",
            "description_width": ""
          }
        },
        "3e014452badd4aecb5b564f0cd3f24a3": {
          "model_module": "@jupyter-widgets/controls",
          "model_name": "HBoxModel",
          "model_module_version": "1.5.0",
          "state": {
            "_dom_classes": [],
            "_model_module": "@jupyter-widgets/controls",
            "_model_module_version": "1.5.0",
            "_model_name": "HBoxModel",
            "_view_count": null,
            "_view_module": "@jupyter-widgets/controls",
            "_view_module_version": "1.5.0",
            "_view_name": "HBoxView",
            "box_style": "",
            "children": [
              "IPY_MODEL_c1d64e0d37654beca67e5ccfa368eee2",
              "IPY_MODEL_d8f116ee852d4c6eb8e335a28dad63c0",
              "IPY_MODEL_e31d5db88824468486ca55da46834faf"
            ],
            "layout": "IPY_MODEL_fe1e6c3cffa4437e84654e199e58cd69"
          }
        },
        "c1d64e0d37654beca67e5ccfa368eee2": {
          "model_module": "@jupyter-widgets/controls",
          "model_name": "HTMLModel",
          "model_module_version": "1.5.0",
          "state": {
            "_dom_classes": [],
            "_model_module": "@jupyter-widgets/controls",
            "_model_module_version": "1.5.0",
            "_model_name": "HTMLModel",
            "_view_count": null,
            "_view_module": "@jupyter-widgets/controls",
            "_view_module_version": "1.5.0",
            "_view_name": "HTMLView",
            "description": "",
            "description_tooltip": null,
            "layout": "IPY_MODEL_86775d257aee4cd890c4aaccb809cf37",
            "placeholder": "​",
            "style": "IPY_MODEL_97ba3b07b88c4ab6a4dac1686d349d9d",
            "value": "merges.txt: 100%"
          }
        },
        "d8f116ee852d4c6eb8e335a28dad63c0": {
          "model_module": "@jupyter-widgets/controls",
          "model_name": "FloatProgressModel",
          "model_module_version": "1.5.0",
          "state": {
            "_dom_classes": [],
            "_model_module": "@jupyter-widgets/controls",
            "_model_module_version": "1.5.0",
            "_model_name": "FloatProgressModel",
            "_view_count": null,
            "_view_module": "@jupyter-widgets/controls",
            "_view_module_version": "1.5.0",
            "_view_name": "ProgressView",
            "bar_style": "success",
            "description": "",
            "description_tooltip": null,
            "layout": "IPY_MODEL_c8e7650fa8c345b699caf66754fadcdc",
            "max": 456356,
            "min": 0,
            "orientation": "horizontal",
            "style": "IPY_MODEL_3a2a563fd0ca4c0083a78a422a604153",
            "value": 456356
          }
        },
        "e31d5db88824468486ca55da46834faf": {
          "model_module": "@jupyter-widgets/controls",
          "model_name": "HTMLModel",
          "model_module_version": "1.5.0",
          "state": {
            "_dom_classes": [],
            "_model_module": "@jupyter-widgets/controls",
            "_model_module_version": "1.5.0",
            "_model_name": "HTMLModel",
            "_view_count": null,
            "_view_module": "@jupyter-widgets/controls",
            "_view_module_version": "1.5.0",
            "_view_name": "HTMLView",
            "description": "",
            "description_tooltip": null,
            "layout": "IPY_MODEL_655e3f3f7b35424ab27327824a98538c",
            "placeholder": "​",
            "style": "IPY_MODEL_cfe5f6434f3749c59a9026cac6bf4e1f",
            "value": " 456k/456k [00:00&lt;00:00, 6.49MB/s]"
          }
        },
        "fe1e6c3cffa4437e84654e199e58cd69": {
          "model_module": "@jupyter-widgets/base",
          "model_name": "LayoutModel",
          "model_module_version": "1.2.0",
          "state": {
            "_model_module": "@jupyter-widgets/base",
            "_model_module_version": "1.2.0",
            "_model_name": "LayoutModel",
            "_view_count": null,
            "_view_module": "@jupyter-widgets/base",
            "_view_module_version": "1.2.0",
            "_view_name": "LayoutView",
            "align_content": null,
            "align_items": null,
            "align_self": null,
            "border": null,
            "bottom": null,
            "display": null,
            "flex": null,
            "flex_flow": null,
            "grid_area": null,
            "grid_auto_columns": null,
            "grid_auto_flow": null,
            "grid_auto_rows": null,
            "grid_column": null,
            "grid_gap": null,
            "grid_row": null,
            "grid_template_areas": null,
            "grid_template_columns": null,
            "grid_template_rows": null,
            "height": null,
            "justify_content": null,
            "justify_items": null,
            "left": null,
            "margin": null,
            "max_height": null,
            "max_width": null,
            "min_height": null,
            "min_width": null,
            "object_fit": null,
            "object_position": null,
            "order": null,
            "overflow": null,
            "overflow_x": null,
            "overflow_y": null,
            "padding": null,
            "right": null,
            "top": null,
            "visibility": null,
            "width": null
          }
        },
        "86775d257aee4cd890c4aaccb809cf37": {
          "model_module": "@jupyter-widgets/base",
          "model_name": "LayoutModel",
          "model_module_version": "1.2.0",
          "state": {
            "_model_module": "@jupyter-widgets/base",
            "_model_module_version": "1.2.0",
            "_model_name": "LayoutModel",
            "_view_count": null,
            "_view_module": "@jupyter-widgets/base",
            "_view_module_version": "1.2.0",
            "_view_name": "LayoutView",
            "align_content": null,
            "align_items": null,
            "align_self": null,
            "border": null,
            "bottom": null,
            "display": null,
            "flex": null,
            "flex_flow": null,
            "grid_area": null,
            "grid_auto_columns": null,
            "grid_auto_flow": null,
            "grid_auto_rows": null,
            "grid_column": null,
            "grid_gap": null,
            "grid_row": null,
            "grid_template_areas": null,
            "grid_template_columns": null,
            "grid_template_rows": null,
            "height": null,
            "justify_content": null,
            "justify_items": null,
            "left": null,
            "margin": null,
            "max_height": null,
            "max_width": null,
            "min_height": null,
            "min_width": null,
            "object_fit": null,
            "object_position": null,
            "order": null,
            "overflow": null,
            "overflow_x": null,
            "overflow_y": null,
            "padding": null,
            "right": null,
            "top": null,
            "visibility": null,
            "width": null
          }
        },
        "97ba3b07b88c4ab6a4dac1686d349d9d": {
          "model_module": "@jupyter-widgets/controls",
          "model_name": "DescriptionStyleModel",
          "model_module_version": "1.5.0",
          "state": {
            "_model_module": "@jupyter-widgets/controls",
            "_model_module_version": "1.5.0",
            "_model_name": "DescriptionStyleModel",
            "_view_count": null,
            "_view_module": "@jupyter-widgets/base",
            "_view_module_version": "1.2.0",
            "_view_name": "StyleView",
            "description_width": ""
          }
        },
        "c8e7650fa8c345b699caf66754fadcdc": {
          "model_module": "@jupyter-widgets/base",
          "model_name": "LayoutModel",
          "model_module_version": "1.2.0",
          "state": {
            "_model_module": "@jupyter-widgets/base",
            "_model_module_version": "1.2.0",
            "_model_name": "LayoutModel",
            "_view_count": null,
            "_view_module": "@jupyter-widgets/base",
            "_view_module_version": "1.2.0",
            "_view_name": "LayoutView",
            "align_content": null,
            "align_items": null,
            "align_self": null,
            "border": null,
            "bottom": null,
            "display": null,
            "flex": null,
            "flex_flow": null,
            "grid_area": null,
            "grid_auto_columns": null,
            "grid_auto_flow": null,
            "grid_auto_rows": null,
            "grid_column": null,
            "grid_gap": null,
            "grid_row": null,
            "grid_template_areas": null,
            "grid_template_columns": null,
            "grid_template_rows": null,
            "height": null,
            "justify_content": null,
            "justify_items": null,
            "left": null,
            "margin": null,
            "max_height": null,
            "max_width": null,
            "min_height": null,
            "min_width": null,
            "object_fit": null,
            "object_position": null,
            "order": null,
            "overflow": null,
            "overflow_x": null,
            "overflow_y": null,
            "padding": null,
            "right": null,
            "top": null,
            "visibility": null,
            "width": null
          }
        },
        "3a2a563fd0ca4c0083a78a422a604153": {
          "model_module": "@jupyter-widgets/controls",
          "model_name": "ProgressStyleModel",
          "model_module_version": "1.5.0",
          "state": {
            "_model_module": "@jupyter-widgets/controls",
            "_model_module_version": "1.5.0",
            "_model_name": "ProgressStyleModel",
            "_view_count": null,
            "_view_module": "@jupyter-widgets/base",
            "_view_module_version": "1.2.0",
            "_view_name": "StyleView",
            "bar_color": null,
            "description_width": ""
          }
        },
        "655e3f3f7b35424ab27327824a98538c": {
          "model_module": "@jupyter-widgets/base",
          "model_name": "LayoutModel",
          "model_module_version": "1.2.0",
          "state": {
            "_model_module": "@jupyter-widgets/base",
            "_model_module_version": "1.2.0",
            "_model_name": "LayoutModel",
            "_view_count": null,
            "_view_module": "@jupyter-widgets/base",
            "_view_module_version": "1.2.0",
            "_view_name": "LayoutView",
            "align_content": null,
            "align_items": null,
            "align_self": null,
            "border": null,
            "bottom": null,
            "display": null,
            "flex": null,
            "flex_flow": null,
            "grid_area": null,
            "grid_auto_columns": null,
            "grid_auto_flow": null,
            "grid_auto_rows": null,
            "grid_column": null,
            "grid_gap": null,
            "grid_row": null,
            "grid_template_areas": null,
            "grid_template_columns": null,
            "grid_template_rows": null,
            "height": null,
            "justify_content": null,
            "justify_items": null,
            "left": null,
            "margin": null,
            "max_height": null,
            "max_width": null,
            "min_height": null,
            "min_width": null,
            "object_fit": null,
            "object_position": null,
            "order": null,
            "overflow": null,
            "overflow_x": null,
            "overflow_y": null,
            "padding": null,
            "right": null,
            "top": null,
            "visibility": null,
            "width": null
          }
        },
        "cfe5f6434f3749c59a9026cac6bf4e1f": {
          "model_module": "@jupyter-widgets/controls",
          "model_name": "DescriptionStyleModel",
          "model_module_version": "1.5.0",
          "state": {
            "_model_module": "@jupyter-widgets/controls",
            "_model_module_version": "1.5.0",
            "_model_name": "DescriptionStyleModel",
            "_view_count": null,
            "_view_module": "@jupyter-widgets/base",
            "_view_module_version": "1.2.0",
            "_view_name": "StyleView",
            "description_width": ""
          }
        },
        "05f75ca537e841e9806933f4211f6af1": {
          "model_module": "@jupyter-widgets/controls",
          "model_name": "HBoxModel",
          "model_module_version": "1.5.0",
          "state": {
            "_dom_classes": [],
            "_model_module": "@jupyter-widgets/controls",
            "_model_module_version": "1.5.0",
            "_model_name": "HBoxModel",
            "_view_count": null,
            "_view_module": "@jupyter-widgets/controls",
            "_view_module_version": "1.5.0",
            "_view_name": "HBoxView",
            "box_style": "",
            "children": [
              "IPY_MODEL_4b2ee20e144d4f16a238dec71e4ba9f3",
              "IPY_MODEL_a39c0cc43baf45dda74b8c293a2d88c0",
              "IPY_MODEL_3e6641f98958400e9a1487dd1e1f8953"
            ],
            "layout": "IPY_MODEL_ea69105de75945b7a57847c1569b1ee8"
          }
        },
        "4b2ee20e144d4f16a238dec71e4ba9f3": {
          "model_module": "@jupyter-widgets/controls",
          "model_name": "HTMLModel",
          "model_module_version": "1.5.0",
          "state": {
            "_dom_classes": [],
            "_model_module": "@jupyter-widgets/controls",
            "_model_module_version": "1.5.0",
            "_model_name": "HTMLModel",
            "_view_count": null,
            "_view_module": "@jupyter-widgets/controls",
            "_view_module_version": "1.5.0",
            "_view_name": "HTMLView",
            "description": "",
            "description_tooltip": null,
            "layout": "IPY_MODEL_b25f95355f9341de9e660a650cd9260a",
            "placeholder": "​",
            "style": "IPY_MODEL_027e0a10c31a4146aeabc00fabee76c0",
            "value": "tokenizer.json: 100%"
          }
        },
        "a39c0cc43baf45dda74b8c293a2d88c0": {
          "model_module": "@jupyter-widgets/controls",
          "model_name": "FloatProgressModel",
          "model_module_version": "1.5.0",
          "state": {
            "_dom_classes": [],
            "_model_module": "@jupyter-widgets/controls",
            "_model_module_version": "1.5.0",
            "_model_name": "FloatProgressModel",
            "_view_count": null,
            "_view_module": "@jupyter-widgets/controls",
            "_view_module_version": "1.5.0",
            "_view_name": "ProgressView",
            "bar_style": "success",
            "description": "",
            "description_tooltip": null,
            "layout": "IPY_MODEL_606c25bdcdde475f8d2928e0ec22ccaf",
            "max": 2108844,
            "min": 0,
            "orientation": "horizontal",
            "style": "IPY_MODEL_7bfb0e08e8cd4970a17bc45f454e6bfd",
            "value": 2108844
          }
        },
        "3e6641f98958400e9a1487dd1e1f8953": {
          "model_module": "@jupyter-widgets/controls",
          "model_name": "HTMLModel",
          "model_module_version": "1.5.0",
          "state": {
            "_dom_classes": [],
            "_model_module": "@jupyter-widgets/controls",
            "_model_module_version": "1.5.0",
            "_model_name": "HTMLModel",
            "_view_count": null,
            "_view_module": "@jupyter-widgets/controls",
            "_view_module_version": "1.5.0",
            "_view_name": "HTMLView",
            "description": "",
            "description_tooltip": null,
            "layout": "IPY_MODEL_151323e7a85b4a2ca86ffff02a0a1eba",
            "placeholder": "​",
            "style": "IPY_MODEL_5d67445c2ddb49f4b7072b99fc198ddf",
            "value": " 2.11M/2.11M [00:00&lt;00:00, 18.3MB/s]"
          }
        },
        "ea69105de75945b7a57847c1569b1ee8": {
          "model_module": "@jupyter-widgets/base",
          "model_name": "LayoutModel",
          "model_module_version": "1.2.0",
          "state": {
            "_model_module": "@jupyter-widgets/base",
            "_model_module_version": "1.2.0",
            "_model_name": "LayoutModel",
            "_view_count": null,
            "_view_module": "@jupyter-widgets/base",
            "_view_module_version": "1.2.0",
            "_view_name": "LayoutView",
            "align_content": null,
            "align_items": null,
            "align_self": null,
            "border": null,
            "bottom": null,
            "display": null,
            "flex": null,
            "flex_flow": null,
            "grid_area": null,
            "grid_auto_columns": null,
            "grid_auto_flow": null,
            "grid_auto_rows": null,
            "grid_column": null,
            "grid_gap": null,
            "grid_row": null,
            "grid_template_areas": null,
            "grid_template_columns": null,
            "grid_template_rows": null,
            "height": null,
            "justify_content": null,
            "justify_items": null,
            "left": null,
            "margin": null,
            "max_height": null,
            "max_width": null,
            "min_height": null,
            "min_width": null,
            "object_fit": null,
            "object_position": null,
            "order": null,
            "overflow": null,
            "overflow_x": null,
            "overflow_y": null,
            "padding": null,
            "right": null,
            "top": null,
            "visibility": null,
            "width": null
          }
        },
        "b25f95355f9341de9e660a650cd9260a": {
          "model_module": "@jupyter-widgets/base",
          "model_name": "LayoutModel",
          "model_module_version": "1.2.0",
          "state": {
            "_model_module": "@jupyter-widgets/base",
            "_model_module_version": "1.2.0",
            "_model_name": "LayoutModel",
            "_view_count": null,
            "_view_module": "@jupyter-widgets/base",
            "_view_module_version": "1.2.0",
            "_view_name": "LayoutView",
            "align_content": null,
            "align_items": null,
            "align_self": null,
            "border": null,
            "bottom": null,
            "display": null,
            "flex": null,
            "flex_flow": null,
            "grid_area": null,
            "grid_auto_columns": null,
            "grid_auto_flow": null,
            "grid_auto_rows": null,
            "grid_column": null,
            "grid_gap": null,
            "grid_row": null,
            "grid_template_areas": null,
            "grid_template_columns": null,
            "grid_template_rows": null,
            "height": null,
            "justify_content": null,
            "justify_items": null,
            "left": null,
            "margin": null,
            "max_height": null,
            "max_width": null,
            "min_height": null,
            "min_width": null,
            "object_fit": null,
            "object_position": null,
            "order": null,
            "overflow": null,
            "overflow_x": null,
            "overflow_y": null,
            "padding": null,
            "right": null,
            "top": null,
            "visibility": null,
            "width": null
          }
        },
        "027e0a10c31a4146aeabc00fabee76c0": {
          "model_module": "@jupyter-widgets/controls",
          "model_name": "DescriptionStyleModel",
          "model_module_version": "1.5.0",
          "state": {
            "_model_module": "@jupyter-widgets/controls",
            "_model_module_version": "1.5.0",
            "_model_name": "DescriptionStyleModel",
            "_view_count": null,
            "_view_module": "@jupyter-widgets/base",
            "_view_module_version": "1.2.0",
            "_view_name": "StyleView",
            "description_width": ""
          }
        },
        "606c25bdcdde475f8d2928e0ec22ccaf": {
          "model_module": "@jupyter-widgets/base",
          "model_name": "LayoutModel",
          "model_module_version": "1.2.0",
          "state": {
            "_model_module": "@jupyter-widgets/base",
            "_model_module_version": "1.2.0",
            "_model_name": "LayoutModel",
            "_view_count": null,
            "_view_module": "@jupyter-widgets/base",
            "_view_module_version": "1.2.0",
            "_view_name": "LayoutView",
            "align_content": null,
            "align_items": null,
            "align_self": null,
            "border": null,
            "bottom": null,
            "display": null,
            "flex": null,
            "flex_flow": null,
            "grid_area": null,
            "grid_auto_columns": null,
            "grid_auto_flow": null,
            "grid_auto_rows": null,
            "grid_column": null,
            "grid_gap": null,
            "grid_row": null,
            "grid_template_areas": null,
            "grid_template_columns": null,
            "grid_template_rows": null,
            "height": null,
            "justify_content": null,
            "justify_items": null,
            "left": null,
            "margin": null,
            "max_height": null,
            "max_width": null,
            "min_height": null,
            "min_width": null,
            "object_fit": null,
            "object_position": null,
            "order": null,
            "overflow": null,
            "overflow_x": null,
            "overflow_y": null,
            "padding": null,
            "right": null,
            "top": null,
            "visibility": null,
            "width": null
          }
        },
        "7bfb0e08e8cd4970a17bc45f454e6bfd": {
          "model_module": "@jupyter-widgets/controls",
          "model_name": "ProgressStyleModel",
          "model_module_version": "1.5.0",
          "state": {
            "_model_module": "@jupyter-widgets/controls",
            "_model_module_version": "1.5.0",
            "_model_name": "ProgressStyleModel",
            "_view_count": null,
            "_view_module": "@jupyter-widgets/base",
            "_view_module_version": "1.2.0",
            "_view_name": "StyleView",
            "bar_color": null,
            "description_width": ""
          }
        },
        "151323e7a85b4a2ca86ffff02a0a1eba": {
          "model_module": "@jupyter-widgets/base",
          "model_name": "LayoutModel",
          "model_module_version": "1.2.0",
          "state": {
            "_model_module": "@jupyter-widgets/base",
            "_model_module_version": "1.2.0",
            "_model_name": "LayoutModel",
            "_view_count": null,
            "_view_module": "@jupyter-widgets/base",
            "_view_module_version": "1.2.0",
            "_view_name": "LayoutView",
            "align_content": null,
            "align_items": null,
            "align_self": null,
            "border": null,
            "bottom": null,
            "display": null,
            "flex": null,
            "flex_flow": null,
            "grid_area": null,
            "grid_auto_columns": null,
            "grid_auto_flow": null,
            "grid_auto_rows": null,
            "grid_column": null,
            "grid_gap": null,
            "grid_row": null,
            "grid_template_areas": null,
            "grid_template_columns": null,
            "grid_template_rows": null,
            "height": null,
            "justify_content": null,
            "justify_items": null,
            "left": null,
            "margin": null,
            "max_height": null,
            "max_width": null,
            "min_height": null,
            "min_width": null,
            "object_fit": null,
            "object_position": null,
            "order": null,
            "overflow": null,
            "overflow_x": null,
            "overflow_y": null,
            "padding": null,
            "right": null,
            "top": null,
            "visibility": null,
            "width": null
          }
        },
        "5d67445c2ddb49f4b7072b99fc198ddf": {
          "model_module": "@jupyter-widgets/controls",
          "model_name": "DescriptionStyleModel",
          "model_module_version": "1.5.0",
          "state": {
            "_model_module": "@jupyter-widgets/controls",
            "_model_module_version": "1.5.0",
            "_model_name": "DescriptionStyleModel",
            "_view_count": null,
            "_view_module": "@jupyter-widgets/base",
            "_view_module_version": "1.2.0",
            "_view_name": "StyleView",
            "description_width": ""
          }
        },
        "6d33fb226c6e4e24946651f6c21f4698": {
          "model_module": "@jupyter-widgets/controls",
          "model_name": "HBoxModel",
          "model_module_version": "1.5.0",
          "state": {
            "_dom_classes": [],
            "_model_module": "@jupyter-widgets/controls",
            "_model_module_version": "1.5.0",
            "_model_name": "HBoxModel",
            "_view_count": null,
            "_view_module": "@jupyter-widgets/controls",
            "_view_module_version": "1.5.0",
            "_view_name": "HBoxView",
            "box_style": "",
            "children": [
              "IPY_MODEL_3820b47338fe45798e06d8d61d372073",
              "IPY_MODEL_8d19959deb124680800ee7a82abc06fe",
              "IPY_MODEL_e8162a29cc7f4781b45a47cb83842f3d"
            ],
            "layout": "IPY_MODEL_86bd2f0ee22044c3b7c10ca37cd430ed"
          }
        },
        "3820b47338fe45798e06d8d61d372073": {
          "model_module": "@jupyter-widgets/controls",
          "model_name": "HTMLModel",
          "model_module_version": "1.5.0",
          "state": {
            "_dom_classes": [],
            "_model_module": "@jupyter-widgets/controls",
            "_model_module_version": "1.5.0",
            "_model_name": "HTMLModel",
            "_view_count": null,
            "_view_module": "@jupyter-widgets/controls",
            "_view_module_version": "1.5.0",
            "_view_name": "HTMLView",
            "description": "",
            "description_tooltip": null,
            "layout": "IPY_MODEL_b0a46a164ed24c74bb46252736ae36a6",
            "placeholder": "​",
            "style": "IPY_MODEL_223ec5d4817e42fe9a1de721255290d8",
            "value": "special_tokens_map.json: 100%"
          }
        },
        "8d19959deb124680800ee7a82abc06fe": {
          "model_module": "@jupyter-widgets/controls",
          "model_name": "FloatProgressModel",
          "model_module_version": "1.5.0",
          "state": {
            "_dom_classes": [],
            "_model_module": "@jupyter-widgets/controls",
            "_model_module_version": "1.5.0",
            "_model_name": "FloatProgressModel",
            "_view_count": null,
            "_view_module": "@jupyter-widgets/controls",
            "_view_module_version": "1.5.0",
            "_view_name": "ProgressView",
            "bar_style": "success",
            "description": "",
            "description_tooltip": null,
            "layout": "IPY_MODEL_d2eeccc8f79b45a9a0ec8f9ba0e9a696",
            "max": 280,
            "min": 0,
            "orientation": "horizontal",
            "style": "IPY_MODEL_599b32a64c4a4a9195d70f52df0d96c7",
            "value": 280
          }
        },
        "e8162a29cc7f4781b45a47cb83842f3d": {
          "model_module": "@jupyter-widgets/controls",
          "model_name": "HTMLModel",
          "model_module_version": "1.5.0",
          "state": {
            "_dom_classes": [],
            "_model_module": "@jupyter-widgets/controls",
            "_model_module_version": "1.5.0",
            "_model_name": "HTMLModel",
            "_view_count": null,
            "_view_module": "@jupyter-widgets/controls",
            "_view_module_version": "1.5.0",
            "_view_name": "HTMLView",
            "description": "",
            "description_tooltip": null,
            "layout": "IPY_MODEL_c58d9b4c52bd4f49ba0f3260f235ca97",
            "placeholder": "​",
            "style": "IPY_MODEL_52b8a9e4d1b3484898dd14157ddb3d61",
            "value": " 280/280 [00:00&lt;00:00, 5.67kB/s]"
          }
        },
        "86bd2f0ee22044c3b7c10ca37cd430ed": {
          "model_module": "@jupyter-widgets/base",
          "model_name": "LayoutModel",
          "model_module_version": "1.2.0",
          "state": {
            "_model_module": "@jupyter-widgets/base",
            "_model_module_version": "1.2.0",
            "_model_name": "LayoutModel",
            "_view_count": null,
            "_view_module": "@jupyter-widgets/base",
            "_view_module_version": "1.2.0",
            "_view_name": "LayoutView",
            "align_content": null,
            "align_items": null,
            "align_self": null,
            "border": null,
            "bottom": null,
            "display": null,
            "flex": null,
            "flex_flow": null,
            "grid_area": null,
            "grid_auto_columns": null,
            "grid_auto_flow": null,
            "grid_auto_rows": null,
            "grid_column": null,
            "grid_gap": null,
            "grid_row": null,
            "grid_template_areas": null,
            "grid_template_columns": null,
            "grid_template_rows": null,
            "height": null,
            "justify_content": null,
            "justify_items": null,
            "left": null,
            "margin": null,
            "max_height": null,
            "max_width": null,
            "min_height": null,
            "min_width": null,
            "object_fit": null,
            "object_position": null,
            "order": null,
            "overflow": null,
            "overflow_x": null,
            "overflow_y": null,
            "padding": null,
            "right": null,
            "top": null,
            "visibility": null,
            "width": null
          }
        },
        "b0a46a164ed24c74bb46252736ae36a6": {
          "model_module": "@jupyter-widgets/base",
          "model_name": "LayoutModel",
          "model_module_version": "1.2.0",
          "state": {
            "_model_module": "@jupyter-widgets/base",
            "_model_module_version": "1.2.0",
            "_model_name": "LayoutModel",
            "_view_count": null,
            "_view_module": "@jupyter-widgets/base",
            "_view_module_version": "1.2.0",
            "_view_name": "LayoutView",
            "align_content": null,
            "align_items": null,
            "align_self": null,
            "border": null,
            "bottom": null,
            "display": null,
            "flex": null,
            "flex_flow": null,
            "grid_area": null,
            "grid_auto_columns": null,
            "grid_auto_flow": null,
            "grid_auto_rows": null,
            "grid_column": null,
            "grid_gap": null,
            "grid_row": null,
            "grid_template_areas": null,
            "grid_template_columns": null,
            "grid_template_rows": null,
            "height": null,
            "justify_content": null,
            "justify_items": null,
            "left": null,
            "margin": null,
            "max_height": null,
            "max_width": null,
            "min_height": null,
            "min_width": null,
            "object_fit": null,
            "object_position": null,
            "order": null,
            "overflow": null,
            "overflow_x": null,
            "overflow_y": null,
            "padding": null,
            "right": null,
            "top": null,
            "visibility": null,
            "width": null
          }
        },
        "223ec5d4817e42fe9a1de721255290d8": {
          "model_module": "@jupyter-widgets/controls",
          "model_name": "DescriptionStyleModel",
          "model_module_version": "1.5.0",
          "state": {
            "_model_module": "@jupyter-widgets/controls",
            "_model_module_version": "1.5.0",
            "_model_name": "DescriptionStyleModel",
            "_view_count": null,
            "_view_module": "@jupyter-widgets/base",
            "_view_module_version": "1.2.0",
            "_view_name": "StyleView",
            "description_width": ""
          }
        },
        "d2eeccc8f79b45a9a0ec8f9ba0e9a696": {
          "model_module": "@jupyter-widgets/base",
          "model_name": "LayoutModel",
          "model_module_version": "1.2.0",
          "state": {
            "_model_module": "@jupyter-widgets/base",
            "_model_module_version": "1.2.0",
            "_model_name": "LayoutModel",
            "_view_count": null,
            "_view_module": "@jupyter-widgets/base",
            "_view_module_version": "1.2.0",
            "_view_name": "LayoutView",
            "align_content": null,
            "align_items": null,
            "align_self": null,
            "border": null,
            "bottom": null,
            "display": null,
            "flex": null,
            "flex_flow": null,
            "grid_area": null,
            "grid_auto_columns": null,
            "grid_auto_flow": null,
            "grid_auto_rows": null,
            "grid_column": null,
            "grid_gap": null,
            "grid_row": null,
            "grid_template_areas": null,
            "grid_template_columns": null,
            "grid_template_rows": null,
            "height": null,
            "justify_content": null,
            "justify_items": null,
            "left": null,
            "margin": null,
            "max_height": null,
            "max_width": null,
            "min_height": null,
            "min_width": null,
            "object_fit": null,
            "object_position": null,
            "order": null,
            "overflow": null,
            "overflow_x": null,
            "overflow_y": null,
            "padding": null,
            "right": null,
            "top": null,
            "visibility": null,
            "width": null
          }
        },
        "599b32a64c4a4a9195d70f52df0d96c7": {
          "model_module": "@jupyter-widgets/controls",
          "model_name": "ProgressStyleModel",
          "model_module_version": "1.5.0",
          "state": {
            "_model_module": "@jupyter-widgets/controls",
            "_model_module_version": "1.5.0",
            "_model_name": "ProgressStyleModel",
            "_view_count": null,
            "_view_module": "@jupyter-widgets/base",
            "_view_module_version": "1.2.0",
            "_view_name": "StyleView",
            "bar_color": null,
            "description_width": ""
          }
        },
        "c58d9b4c52bd4f49ba0f3260f235ca97": {
          "model_module": "@jupyter-widgets/base",
          "model_name": "LayoutModel",
          "model_module_version": "1.2.0",
          "state": {
            "_model_module": "@jupyter-widgets/base",
            "_model_module_version": "1.2.0",
            "_model_name": "LayoutModel",
            "_view_count": null,
            "_view_module": "@jupyter-widgets/base",
            "_view_module_version": "1.2.0",
            "_view_name": "LayoutView",
            "align_content": null,
            "align_items": null,
            "align_self": null,
            "border": null,
            "bottom": null,
            "display": null,
            "flex": null,
            "flex_flow": null,
            "grid_area": null,
            "grid_auto_columns": null,
            "grid_auto_flow": null,
            "grid_auto_rows": null,
            "grid_column": null,
            "grid_gap": null,
            "grid_row": null,
            "grid_template_areas": null,
            "grid_template_columns": null,
            "grid_template_rows": null,
            "height": null,
            "justify_content": null,
            "justify_items": null,
            "left": null,
            "margin": null,
            "max_height": null,
            "max_width": null,
            "min_height": null,
            "min_width": null,
            "object_fit": null,
            "object_position": null,
            "order": null,
            "overflow": null,
            "overflow_x": null,
            "overflow_y": null,
            "padding": null,
            "right": null,
            "top": null,
            "visibility": null,
            "width": null
          }
        },
        "52b8a9e4d1b3484898dd14157ddb3d61": {
          "model_module": "@jupyter-widgets/controls",
          "model_name": "DescriptionStyleModel",
          "model_module_version": "1.5.0",
          "state": {
            "_model_module": "@jupyter-widgets/controls",
            "_model_module_version": "1.5.0",
            "_model_name": "DescriptionStyleModel",
            "_view_count": null,
            "_view_module": "@jupyter-widgets/base",
            "_view_module_version": "1.2.0",
            "_view_name": "StyleView",
            "description_width": ""
          }
        },
        "c1b04d684bcf4e0b826e7274437f3128": {
          "model_module": "@jupyter-widgets/controls",
          "model_name": "HBoxModel",
          "model_module_version": "1.5.0",
          "state": {
            "_dom_classes": [],
            "_model_module": "@jupyter-widgets/controls",
            "_model_module_version": "1.5.0",
            "_model_name": "HBoxModel",
            "_view_count": null,
            "_view_module": "@jupyter-widgets/controls",
            "_view_module_version": "1.5.0",
            "_view_name": "HBoxView",
            "box_style": "",
            "children": [
              "IPY_MODEL_95d5a40e1089421f9f297d1572e39356",
              "IPY_MODEL_3d44d0504dcf43f5866be6f314a1c716",
              "IPY_MODEL_4a87ef15640a49aa802b637e8544ed0c"
            ],
            "layout": "IPY_MODEL_b9d83298f0e14446a2805915dfca5de3"
          }
        },
        "95d5a40e1089421f9f297d1572e39356": {
          "model_module": "@jupyter-widgets/controls",
          "model_name": "HTMLModel",
          "model_module_version": "1.5.0",
          "state": {
            "_dom_classes": [],
            "_model_module": "@jupyter-widgets/controls",
            "_model_module_version": "1.5.0",
            "_model_name": "HTMLModel",
            "_view_count": null,
            "_view_module": "@jupyter-widgets/controls",
            "_view_module_version": "1.5.0",
            "_view_name": "HTMLView",
            "description": "",
            "description_tooltip": null,
            "layout": "IPY_MODEL_5a2f985a7e8a476e9fdb9a29cb16b14a",
            "placeholder": "​",
            "style": "IPY_MODEL_46e285035d234dbcb6b7400d21609748",
            "value": "config.json: 100%"
          }
        },
        "3d44d0504dcf43f5866be6f314a1c716": {
          "model_module": "@jupyter-widgets/controls",
          "model_name": "FloatProgressModel",
          "model_module_version": "1.5.0",
          "state": {
            "_dom_classes": [],
            "_model_module": "@jupyter-widgets/controls",
            "_model_module_version": "1.5.0",
            "_model_name": "FloatProgressModel",
            "_view_count": null,
            "_view_module": "@jupyter-widgets/controls",
            "_view_module_version": "1.5.0",
            "_view_name": "ProgressView",
            "bar_style": "success",
            "description": "",
            "description_tooltip": null,
            "layout": "IPY_MODEL_6ccecaccc2ff4cad93b9da7b77034e47",
            "max": 1092,
            "min": 0,
            "orientation": "horizontal",
            "style": "IPY_MODEL_ea62b5dccdd649678bcaa7c14751303f",
            "value": 1092
          }
        },
        "4a87ef15640a49aa802b637e8544ed0c": {
          "model_module": "@jupyter-widgets/controls",
          "model_name": "HTMLModel",
          "model_module_version": "1.5.0",
          "state": {
            "_dom_classes": [],
            "_model_module": "@jupyter-widgets/controls",
            "_model_module_version": "1.5.0",
            "_model_name": "HTMLModel",
            "_view_count": null,
            "_view_module": "@jupyter-widgets/controls",
            "_view_module_version": "1.5.0",
            "_view_name": "HTMLView",
            "description": "",
            "description_tooltip": null,
            "layout": "IPY_MODEL_775afb4ce0e744eaa76eda12979567ba",
            "placeholder": "​",
            "style": "IPY_MODEL_5568067ec19c47e3b139cc923a31983a",
            "value": " 1.09k/1.09k [00:00&lt;00:00, 18.7kB/s]"
          }
        },
        "b9d83298f0e14446a2805915dfca5de3": {
          "model_module": "@jupyter-widgets/base",
          "model_name": "LayoutModel",
          "model_module_version": "1.2.0",
          "state": {
            "_model_module": "@jupyter-widgets/base",
            "_model_module_version": "1.2.0",
            "_model_name": "LayoutModel",
            "_view_count": null,
            "_view_module": "@jupyter-widgets/base",
            "_view_module_version": "1.2.0",
            "_view_name": "LayoutView",
            "align_content": null,
            "align_items": null,
            "align_self": null,
            "border": null,
            "bottom": null,
            "display": null,
            "flex": null,
            "flex_flow": null,
            "grid_area": null,
            "grid_auto_columns": null,
            "grid_auto_flow": null,
            "grid_auto_rows": null,
            "grid_column": null,
            "grid_gap": null,
            "grid_row": null,
            "grid_template_areas": null,
            "grid_template_columns": null,
            "grid_template_rows": null,
            "height": null,
            "justify_content": null,
            "justify_items": null,
            "left": null,
            "margin": null,
            "max_height": null,
            "max_width": null,
            "min_height": null,
            "min_width": null,
            "object_fit": null,
            "object_position": null,
            "order": null,
            "overflow": null,
            "overflow_x": null,
            "overflow_y": null,
            "padding": null,
            "right": null,
            "top": null,
            "visibility": null,
            "width": null
          }
        },
        "5a2f985a7e8a476e9fdb9a29cb16b14a": {
          "model_module": "@jupyter-widgets/base",
          "model_name": "LayoutModel",
          "model_module_version": "1.2.0",
          "state": {
            "_model_module": "@jupyter-widgets/base",
            "_model_module_version": "1.2.0",
            "_model_name": "LayoutModel",
            "_view_count": null,
            "_view_module": "@jupyter-widgets/base",
            "_view_module_version": "1.2.0",
            "_view_name": "LayoutView",
            "align_content": null,
            "align_items": null,
            "align_self": null,
            "border": null,
            "bottom": null,
            "display": null,
            "flex": null,
            "flex_flow": null,
            "grid_area": null,
            "grid_auto_columns": null,
            "grid_auto_flow": null,
            "grid_auto_rows": null,
            "grid_column": null,
            "grid_gap": null,
            "grid_row": null,
            "grid_template_areas": null,
            "grid_template_columns": null,
            "grid_template_rows": null,
            "height": null,
            "justify_content": null,
            "justify_items": null,
            "left": null,
            "margin": null,
            "max_height": null,
            "max_width": null,
            "min_height": null,
            "min_width": null,
            "object_fit": null,
            "object_position": null,
            "order": null,
            "overflow": null,
            "overflow_x": null,
            "overflow_y": null,
            "padding": null,
            "right": null,
            "top": null,
            "visibility": null,
            "width": null
          }
        },
        "46e285035d234dbcb6b7400d21609748": {
          "model_module": "@jupyter-widgets/controls",
          "model_name": "DescriptionStyleModel",
          "model_module_version": "1.5.0",
          "state": {
            "_model_module": "@jupyter-widgets/controls",
            "_model_module_version": "1.5.0",
            "_model_name": "DescriptionStyleModel",
            "_view_count": null,
            "_view_module": "@jupyter-widgets/base",
            "_view_module_version": "1.2.0",
            "_view_name": "StyleView",
            "description_width": ""
          }
        },
        "6ccecaccc2ff4cad93b9da7b77034e47": {
          "model_module": "@jupyter-widgets/base",
          "model_name": "LayoutModel",
          "model_module_version": "1.2.0",
          "state": {
            "_model_module": "@jupyter-widgets/base",
            "_model_module_version": "1.2.0",
            "_model_name": "LayoutModel",
            "_view_count": null,
            "_view_module": "@jupyter-widgets/base",
            "_view_module_version": "1.2.0",
            "_view_name": "LayoutView",
            "align_content": null,
            "align_items": null,
            "align_self": null,
            "border": null,
            "bottom": null,
            "display": null,
            "flex": null,
            "flex_flow": null,
            "grid_area": null,
            "grid_auto_columns": null,
            "grid_auto_flow": null,
            "grid_auto_rows": null,
            "grid_column": null,
            "grid_gap": null,
            "grid_row": null,
            "grid_template_areas": null,
            "grid_template_columns": null,
            "grid_template_rows": null,
            "height": null,
            "justify_content": null,
            "justify_items": null,
            "left": null,
            "margin": null,
            "max_height": null,
            "max_width": null,
            "min_height": null,
            "min_width": null,
            "object_fit": null,
            "object_position": null,
            "order": null,
            "overflow": null,
            "overflow_x": null,
            "overflow_y": null,
            "padding": null,
            "right": null,
            "top": null,
            "visibility": null,
            "width": null
          }
        },
        "ea62b5dccdd649678bcaa7c14751303f": {
          "model_module": "@jupyter-widgets/controls",
          "model_name": "ProgressStyleModel",
          "model_module_version": "1.5.0",
          "state": {
            "_model_module": "@jupyter-widgets/controls",
            "_model_module_version": "1.5.0",
            "_model_name": "ProgressStyleModel",
            "_view_count": null,
            "_view_module": "@jupyter-widgets/base",
            "_view_module_version": "1.2.0",
            "_view_name": "StyleView",
            "bar_color": null,
            "description_width": ""
          }
        },
        "775afb4ce0e744eaa76eda12979567ba": {
          "model_module": "@jupyter-widgets/base",
          "model_name": "LayoutModel",
          "model_module_version": "1.2.0",
          "state": {
            "_model_module": "@jupyter-widgets/base",
            "_model_module_version": "1.2.0",
            "_model_name": "LayoutModel",
            "_view_count": null,
            "_view_module": "@jupyter-widgets/base",
            "_view_module_version": "1.2.0",
            "_view_name": "LayoutView",
            "align_content": null,
            "align_items": null,
            "align_self": null,
            "border": null,
            "bottom": null,
            "display": null,
            "flex": null,
            "flex_flow": null,
            "grid_area": null,
            "grid_auto_columns": null,
            "grid_auto_flow": null,
            "grid_auto_rows": null,
            "grid_column": null,
            "grid_gap": null,
            "grid_row": null,
            "grid_template_areas": null,
            "grid_template_columns": null,
            "grid_template_rows": null,
            "height": null,
            "justify_content": null,
            "justify_items": null,
            "left": null,
            "margin": null,
            "max_height": null,
            "max_width": null,
            "min_height": null,
            "min_width": null,
            "object_fit": null,
            "object_position": null,
            "order": null,
            "overflow": null,
            "overflow_x": null,
            "overflow_y": null,
            "padding": null,
            "right": null,
            "top": null,
            "visibility": null,
            "width": null
          }
        },
        "5568067ec19c47e3b139cc923a31983a": {
          "model_module": "@jupyter-widgets/controls",
          "model_name": "DescriptionStyleModel",
          "model_module_version": "1.5.0",
          "state": {
            "_model_module": "@jupyter-widgets/controls",
            "_model_module_version": "1.5.0",
            "_model_name": "DescriptionStyleModel",
            "_view_count": null,
            "_view_module": "@jupyter-widgets/base",
            "_view_module_version": "1.2.0",
            "_view_name": "StyleView",
            "description_width": ""
          }
        },
        "93d9e77ef205497bb6464e3df55d92f7": {
          "model_module": "@jupyter-widgets/controls",
          "model_name": "HBoxModel",
          "model_module_version": "1.5.0",
          "state": {
            "_dom_classes": [],
            "_model_module": "@jupyter-widgets/controls",
            "_model_module_version": "1.5.0",
            "_model_name": "HBoxModel",
            "_view_count": null,
            "_view_module": "@jupyter-widgets/controls",
            "_view_module_version": "1.5.0",
            "_view_name": "HBoxView",
            "box_style": "",
            "children": [
              "IPY_MODEL_9ef219bc4a994d9f81d928831e917c0b",
              "IPY_MODEL_0a52bb5d252140f5adf5132210977f94",
              "IPY_MODEL_7474eea729e44576976da32b353177ed"
            ],
            "layout": "IPY_MODEL_883854a3e95c4894884c248bfb9fd3be"
          }
        },
        "9ef219bc4a994d9f81d928831e917c0b": {
          "model_module": "@jupyter-widgets/controls",
          "model_name": "HTMLModel",
          "model_module_version": "1.5.0",
          "state": {
            "_dom_classes": [],
            "_model_module": "@jupyter-widgets/controls",
            "_model_module_version": "1.5.0",
            "_model_name": "HTMLModel",
            "_view_count": null,
            "_view_module": "@jupyter-widgets/controls",
            "_view_module_version": "1.5.0",
            "_view_name": "HTMLView",
            "description": "",
            "description_tooltip": null,
            "layout": "IPY_MODEL_7fdad096aa3e4bb5bee30d35dc0ab740",
            "placeholder": "​",
            "style": "IPY_MODEL_8b635558943e4cb9bac5e216dc4eb11d",
            "value": "pytorch_model.bin: 100%"
          }
        },
        "0a52bb5d252140f5adf5132210977f94": {
          "model_module": "@jupyter-widgets/controls",
          "model_name": "FloatProgressModel",
          "model_module_version": "1.5.0",
          "state": {
            "_dom_classes": [],
            "_model_module": "@jupyter-widgets/controls",
            "_model_module_version": "1.5.0",
            "_model_name": "FloatProgressModel",
            "_view_count": null,
            "_view_module": "@jupyter-widgets/controls",
            "_view_module_version": "1.5.0",
            "_view_name": "ProgressView",
            "bar_style": "success",
            "description": "",
            "description_tooltip": null,
            "layout": "IPY_MODEL_402a71c720f44c7d9488d9427cb6b301",
            "max": 328534125,
            "min": 0,
            "orientation": "horizontal",
            "style": "IPY_MODEL_a74bce9dcbe3487f84635060e0243bf7",
            "value": 328534125
          }
        },
        "7474eea729e44576976da32b353177ed": {
          "model_module": "@jupyter-widgets/controls",
          "model_name": "HTMLModel",
          "model_module_version": "1.5.0",
          "state": {
            "_dom_classes": [],
            "_model_module": "@jupyter-widgets/controls",
            "_model_module_version": "1.5.0",
            "_model_name": "HTMLModel",
            "_view_count": null,
            "_view_module": "@jupyter-widgets/controls",
            "_view_module_version": "1.5.0",
            "_view_name": "HTMLView",
            "description": "",
            "description_tooltip": null,
            "layout": "IPY_MODEL_17b8043c9f774f4ca92028d7f608961b",
            "placeholder": "​",
            "style": "IPY_MODEL_2b18ef99235f44c4a8303a336929d162",
            "value": " 329M/329M [00:06&lt;00:00, 40.6MB/s]"
          }
        },
        "883854a3e95c4894884c248bfb9fd3be": {
          "model_module": "@jupyter-widgets/base",
          "model_name": "LayoutModel",
          "model_module_version": "1.2.0",
          "state": {
            "_model_module": "@jupyter-widgets/base",
            "_model_module_version": "1.2.0",
            "_model_name": "LayoutModel",
            "_view_count": null,
            "_view_module": "@jupyter-widgets/base",
            "_view_module_version": "1.2.0",
            "_view_name": "LayoutView",
            "align_content": null,
            "align_items": null,
            "align_self": null,
            "border": null,
            "bottom": null,
            "display": null,
            "flex": null,
            "flex_flow": null,
            "grid_area": null,
            "grid_auto_columns": null,
            "grid_auto_flow": null,
            "grid_auto_rows": null,
            "grid_column": null,
            "grid_gap": null,
            "grid_row": null,
            "grid_template_areas": null,
            "grid_template_columns": null,
            "grid_template_rows": null,
            "height": null,
            "justify_content": null,
            "justify_items": null,
            "left": null,
            "margin": null,
            "max_height": null,
            "max_width": null,
            "min_height": null,
            "min_width": null,
            "object_fit": null,
            "object_position": null,
            "order": null,
            "overflow": null,
            "overflow_x": null,
            "overflow_y": null,
            "padding": null,
            "right": null,
            "top": null,
            "visibility": null,
            "width": null
          }
        },
        "7fdad096aa3e4bb5bee30d35dc0ab740": {
          "model_module": "@jupyter-widgets/base",
          "model_name": "LayoutModel",
          "model_module_version": "1.2.0",
          "state": {
            "_model_module": "@jupyter-widgets/base",
            "_model_module_version": "1.2.0",
            "_model_name": "LayoutModel",
            "_view_count": null,
            "_view_module": "@jupyter-widgets/base",
            "_view_module_version": "1.2.0",
            "_view_name": "LayoutView",
            "align_content": null,
            "align_items": null,
            "align_self": null,
            "border": null,
            "bottom": null,
            "display": null,
            "flex": null,
            "flex_flow": null,
            "grid_area": null,
            "grid_auto_columns": null,
            "grid_auto_flow": null,
            "grid_auto_rows": null,
            "grid_column": null,
            "grid_gap": null,
            "grid_row": null,
            "grid_template_areas": null,
            "grid_template_columns": null,
            "grid_template_rows": null,
            "height": null,
            "justify_content": null,
            "justify_items": null,
            "left": null,
            "margin": null,
            "max_height": null,
            "max_width": null,
            "min_height": null,
            "min_width": null,
            "object_fit": null,
            "object_position": null,
            "order": null,
            "overflow": null,
            "overflow_x": null,
            "overflow_y": null,
            "padding": null,
            "right": null,
            "top": null,
            "visibility": null,
            "width": null
          }
        },
        "8b635558943e4cb9bac5e216dc4eb11d": {
          "model_module": "@jupyter-widgets/controls",
          "model_name": "DescriptionStyleModel",
          "model_module_version": "1.5.0",
          "state": {
            "_model_module": "@jupyter-widgets/controls",
            "_model_module_version": "1.5.0",
            "_model_name": "DescriptionStyleModel",
            "_view_count": null,
            "_view_module": "@jupyter-widgets/base",
            "_view_module_version": "1.2.0",
            "_view_name": "StyleView",
            "description_width": ""
          }
        },
        "402a71c720f44c7d9488d9427cb6b301": {
          "model_module": "@jupyter-widgets/base",
          "model_name": "LayoutModel",
          "model_module_version": "1.2.0",
          "state": {
            "_model_module": "@jupyter-widgets/base",
            "_model_module_version": "1.2.0",
            "_model_name": "LayoutModel",
            "_view_count": null,
            "_view_module": "@jupyter-widgets/base",
            "_view_module_version": "1.2.0",
            "_view_name": "LayoutView",
            "align_content": null,
            "align_items": null,
            "align_self": null,
            "border": null,
            "bottom": null,
            "display": null,
            "flex": null,
            "flex_flow": null,
            "grid_area": null,
            "grid_auto_columns": null,
            "grid_auto_flow": null,
            "grid_auto_rows": null,
            "grid_column": null,
            "grid_gap": null,
            "grid_row": null,
            "grid_template_areas": null,
            "grid_template_columns": null,
            "grid_template_rows": null,
            "height": null,
            "justify_content": null,
            "justify_items": null,
            "left": null,
            "margin": null,
            "max_height": null,
            "max_width": null,
            "min_height": null,
            "min_width": null,
            "object_fit": null,
            "object_position": null,
            "order": null,
            "overflow": null,
            "overflow_x": null,
            "overflow_y": null,
            "padding": null,
            "right": null,
            "top": null,
            "visibility": null,
            "width": null
          }
        },
        "a74bce9dcbe3487f84635060e0243bf7": {
          "model_module": "@jupyter-widgets/controls",
          "model_name": "ProgressStyleModel",
          "model_module_version": "1.5.0",
          "state": {
            "_model_module": "@jupyter-widgets/controls",
            "_model_module_version": "1.5.0",
            "_model_name": "ProgressStyleModel",
            "_view_count": null,
            "_view_module": "@jupyter-widgets/base",
            "_view_module_version": "1.2.0",
            "_view_name": "StyleView",
            "bar_color": null,
            "description_width": ""
          }
        },
        "17b8043c9f774f4ca92028d7f608961b": {
          "model_module": "@jupyter-widgets/base",
          "model_name": "LayoutModel",
          "model_module_version": "1.2.0",
          "state": {
            "_model_module": "@jupyter-widgets/base",
            "_model_module_version": "1.2.0",
            "_model_name": "LayoutModel",
            "_view_count": null,
            "_view_module": "@jupyter-widgets/base",
            "_view_module_version": "1.2.0",
            "_view_name": "LayoutView",
            "align_content": null,
            "align_items": null,
            "align_self": null,
            "border": null,
            "bottom": null,
            "display": null,
            "flex": null,
            "flex_flow": null,
            "grid_area": null,
            "grid_auto_columns": null,
            "grid_auto_flow": null,
            "grid_auto_rows": null,
            "grid_column": null,
            "grid_gap": null,
            "grid_row": null,
            "grid_template_areas": null,
            "grid_template_columns": null,
            "grid_template_rows": null,
            "height": null,
            "justify_content": null,
            "justify_items": null,
            "left": null,
            "margin": null,
            "max_height": null,
            "max_width": null,
            "min_height": null,
            "min_width": null,
            "object_fit": null,
            "object_position": null,
            "order": null,
            "overflow": null,
            "overflow_x": null,
            "overflow_y": null,
            "padding": null,
            "right": null,
            "top": null,
            "visibility": null,
            "width": null
          }
        },
        "2b18ef99235f44c4a8303a336929d162": {
          "model_module": "@jupyter-widgets/controls",
          "model_name": "DescriptionStyleModel",
          "model_module_version": "1.5.0",
          "state": {
            "_model_module": "@jupyter-widgets/controls",
            "_model_module_version": "1.5.0",
            "_model_name": "DescriptionStyleModel",
            "_view_count": null,
            "_view_module": "@jupyter-widgets/base",
            "_view_module_version": "1.2.0",
            "_view_name": "StyleView",
            "description_width": ""
          }
        }
      }
    }
  },
  "nbformat": 4,
  "nbformat_minor": 0
}